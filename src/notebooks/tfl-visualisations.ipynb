{
 "cells": [
  {
   "cell_type": "code",
   "execution_count": null,
   "id": "b7705ed7",
   "metadata": {},
   "outputs": [],
   "source": [
    "import pandas as pd\n",
    "from pathlib import Path\n",
    "import os\n",
    "import plotly.graph_objects as go\n",
    "import json\n"
   ]
  },
  {
   "cell_type": "markdown",
   "id": "e5854e8f",
   "metadata": {},
   "source": [
    "# Input Data"
   ]
  },
  {
   "cell_type": "code",
   "execution_count": null,
   "id": "d1c2180e",
   "metadata": {},
   "outputs": [],
   "source": [
    "DATA_DIR = Path(os.path.abspath('')).parents[1] / \"data\"\n",
    "FARE_PRICES_DIR = DATA_DIR / \"fares\"\n",
    "STOCK_PRICES_DIR = DATA_DIR / \"stocks\"\n",
    "STOCK_PRICES_DIR"
   ]
  },
  {
   "cell_type": "code",
   "execution_count": null,
   "id": "e8ff1a08",
   "metadata": {},
   "outputs": [],
   "source": [
    "tflFares = pd.read_csv(FARE_PRICES_DIR / \"raw\" / \"TfLHistoricalFares2000to2025.csv\")\n",
    "tflFares"
   ]
  },
  {
   "cell_type": "markdown",
   "id": "770ec1a9",
   "metadata": {},
   "source": [
    "# Charts"
   ]
  },
  {
   "cell_type": "code",
   "execution_count": null,
   "metadata": {},
   "outputs": [],
   "source": [
    "# UTILS\n",
    "\n",
    "LINE_AND_MARKER = \"lines+markers\"\n",
    "\n",
    "def create_trace(x, y, label: str, mode=LINE_AND_MARKER, line_shape=None) -> go.Scatter:\n",
    "    return go.Scatter(x=x, y=y, mode=mode, name=label, line_shape=line_shape)\n",
    "\n",
    "def create_layout(title: str, type=None):\n",
    "    return dict(\n",
    "        title=title,\n",
    "        width = 960,\n",
    "        height = 500,\n",
    "        xaxis=dict(\n",
    "            showgrid=False,\n",
    "            linecolor=\"#7f7f7f\",\n",
    "            linewidth=2,\n",
    "            ticks='outside',\n",
    "            type=type\n",
    "        ),\n",
    "        showlegend=True,\n",
    "        plot_bgcolor='white'\n",
    "    )\n",
    "\n",
    "def normalise_single_series_to_100(df):\n",
    "    return (df - df.min())/(df.max()-df.min()) * 100\n",
    "\n",
    "def normalise_series_to_first_value(df):\n",
    "    return (df / df.iloc[0])"
   ]
  },
  {
   "cell_type": "markdown",
   "id": "2c035fe5",
   "metadata": {},
   "source": [
    "## Tube Fares"
   ]
  },
  {
   "cell_type": "code",
   "execution_count": null,
   "id": "69b4c376",
   "metadata": {},
   "outputs": [],
   "source": [
    "fig = go.Figure()\n",
    "# TRACES\n",
    "fig.add_trace(create_trace(x=tflFares['year'], y=tflFares['singleZ1to4OysterPeak'], label=\"Contactless ticket\"))\n",
    "fig.add_trace(create_trace(x=tflFares['year'], y=tflFares['singleZ1to4Cash'], label=\"Paper ticket\"))\n",
    "# LAYOUT\n",
    "layout = create_layout(title=\"TfL Tube Fares <br><sup>Zone 1-4 travel during peak hours</sup>\")\n",
    "fig.update_layout(layout)\n",
    "\n",
    "fig.show()\n",
    "\n",
    "# 2000 - 2.6, 2012 - 5.3 for paper and 3.6 for contactless, 2025 - 7 for paper and 4.6 for contactless -> +38.46%, +76.92% using contactless\n",
    "# Average Weekly Earnings (AWE) comparison: 2000 - £305, 2012 - £457, 2025 - £711 -> 49.83%, 133.11%\n",
    "# https://www.ons.gov.uk/employmentandlabourmarket/peopleinwork/earningsandworkinghours/timeseries/kab9/emp\n",
    "# Median weekly earnings for full-time employees: 2012 - £506, 2025 - £728\n",
    "# https://www.ons.gov.uk/employmentandlabourmarket/peopleinwork/earningsandworkinghours/bulletins/annualsurveyofhoursandearnings/2024"
   ]
  },
  {
   "cell_type": "code",
   "execution_count": null,
   "metadata": {},
   "outputs": [],
   "source": [
    "# tflFares[\"singleZ1to4OysterPeak\"][10:] / tflFares[\"singleZ1to4OysterPeak\"][10:].iloc[0]\n",
    "normalise_series_to_first_value(tflFares[\"singleZ1to4OysterPeak\"][10:]) * 100 - 100"
   ]
  },
  {
   "cell_type": "code",
   "execution_count": null,
   "metadata": {},
   "outputs": [],
   "source": [
    "fig = go.Figure()\n",
    "# TRACES\n",
    "fig.add_trace(create_trace(x=tflFares['year'][10:], y=normalise_series_to_first_value(tflFares[\"singleZ1to4OysterPeak\"][10:]) * 100 - 100, label=\"Contactless ticket\"))\n",
    "fig.add_trace(create_trace(x=tflFares['year'][10:], y=normalise_series_to_first_value(tflFares[\"singleZ1to4Cash\"][10:]) * 100 - 100, label=\"Paper ticket\"))\n",
    "# fig.add_trace(create_trace(x=tflFares['year'][10:], y=normalise_single_series_to_100(tflFares[\"singleZ1to4OysterPeak\"][10:]), label=\"Contactless ticket\"))\n",
    "# fig.add_trace(create_trace(x=tflFares['year'][10:], y=normalise_single_series_to_100(tflFares[\"singleZ1to4Cash\"][10:]), label=\"Paper ticket\"))\n",
    "# LAYOUT\n",
    "layout = create_layout(title=\"Normalised TfL Tube Fares <br><sup>Zone 1-4 travel during peak hours</sup>\")\n",
    "fig.update_layout(layout)\n",
    "\n",
    "fig.show()"
   ]
  },
  {
   "cell_type": "code",
   "execution_count": null,
   "id": "1df38b57",
   "metadata": {},
   "outputs": [],
   "source": [
    "# Get pay-as-you-go caps as well\n",
    "# How many journeys are required to reach the cap? -> could put it as barchart underneath\n",
    "# tflFares['capZ1to4PAYG']/tflFares['singleZ1to4OysterPeak']"
   ]
  },
  {
   "cell_type": "code",
   "execution_count": null,
   "id": "37ee8ef9",
   "metadata": {},
   "outputs": [],
   "source": [
    "fig = go.Figure()\n",
    "# TRACES\n",
    "fig.add_trace(create_trace(x=tflFares['year'], y=tflFares['capZ1to4PAYG'], label=\"PAYG Cap\"))\n",
    "# fig.add_trace(create_trace(x=tflFares['year'], y=tflFares['travelcard7DayZ1to4'], label=\"travelcard7DayZ1to4\"))\n",
    "# LAYOUT\n",
    "layout = create_layout(title=\"TfL Tube Fares <br><sup>Zone 1-4 travel during peak hours</sup>\")\n",
    "fig.update_layout(layout)\n",
    "\n",
    "fig.update_xaxes(range=[2012,2025])\n",
    "\n",
    "fig.show()"
   ]
  },
  {
   "cell_type": "markdown",
   "metadata": {},
   "source": [
    "## FTSE100"
   ]
  },
  {
   "cell_type": "code",
   "execution_count": null,
   "metadata": {},
   "outputs": [],
   "source": [
    "data = json.load(open(STOCK_PRICES_DIR / \"ftse100from2000to2025.json\"))\n",
    "ftse100 = pd.DataFrame(data['data'])\n",
    "ftse100\n",
    "# Month end value are reported from 2000 Jan to 2025 March + mid April"
   ]
  },
  {
   "cell_type": "code",
   "execution_count": null,
   "id": "6692bc94",
   "metadata": {},
   "outputs": [],
   "source": [
    "ftse100['_DATE_END'] = pd.to_datetime(ftse100['_DATE_END'])\n",
    "ftse100['year'] = ftse100['_DATE_END'].dt.year\n",
    "# ftse100['year'] = ftse100['_DATE_END'].apply(lambda x: int(x.split('-')[0]))\n",
    "\n",
    "ftse_yearly_max_prices = ftse100.groupby(\"year\", as_index=False).max() # HALO this is stupid\n",
    "ftse_yearly_max_prices = ftse_yearly_max_prices.sort_values(\"year\")\n",
    "\n",
    "ftse_yearly_min_prices = ftse100.groupby(\"year\", as_index=False).min()\n",
    "ftse_yearly_min_prices = ftse_yearly_min_prices.sort_values(\"year\")\n",
    "\n",
    "ftse_yearly_min_prices.head()"
   ]
  },
  {
   "cell_type": "code",
   "execution_count": null,
   "id": "0aa6abcd",
   "metadata": {},
   "outputs": [],
   "source": [
    "fig = go.Figure()\n",
    "# TRACES\n",
    "fig.add_trace(create_trace(x=ftse_yearly_max_prices['year'][10:], y=ftse_yearly_max_prices['HIGH_1'].astype(float)[10:], label=\"Highest annual price\"))\n",
    "fig.add_trace(create_trace(x=ftse_yearly_min_prices['year'][10:], y=ftse_yearly_min_prices['LOW_1'].astype(float)[10:], label=\"Lowest annual price\"))\n",
    "# LAYOUT\n",
    "layout = create_layout(title=\"FTSE100<br><sup>UK's stock market's index innit</sup>\", type=\"linear\")\n",
    "fig.update_layout(layout)\n",
    "\n",
    "fig.show()"
   ]
  },
  {
   "cell_type": "code",
   "execution_count": null,
   "metadata": {},
   "outputs": [],
   "source": [
    "fig = go.Figure()\n",
    "# TRACES\n",
    "fig.add_trace(create_trace(x=ftse_yearly_max_prices['year'][10:], y=normalise_single_series_to_100(ftse_yearly_max_prices['LOW_1'].astype(float)[10:]), label=\"Lowest annual price\"))\n",
    "# LAYOUT\n",
    "layout = create_layout(title=\"Normalised FTSE100<br><sup>UK's stock market's index innit</sup>\", type=\"linear\")\n",
    "fig.update_layout(layout)\n",
    "\n",
    "# fig.update_xaxes(range=[2010,2025])\n",
    "\n",
    "fig.show()"
   ]
  },
  {
   "cell_type": "code",
   "execution_count": null,
   "id": "1cc0c1ea",
   "metadata": {},
   "outputs": [],
   "source": [
    "# Could factor in inflation using CPIH\n",
    "# CPIH stands for the Consumer Prices Index including owner occupiers' housing costs, which is the UK's leading measure of inflation\n",
    "# Source: https://www.ons.gov.uk/economy/inflationandpriceindices/timeseries/l55o/mm23\n",
    "cpih = pd.read_csv(DATA_DIR / \"CPIH-annual-rate-1989-2024-by-year.csv\", skiprows=7)\n",
    "n_years = 2024 - 1989 + 1\n",
    "cpih.iloc[:n_years].tail()"
   ]
  },
  {
   "cell_type": "markdown",
   "metadata": {},
   "source": [
    "## Combined Charts"
   ]
  },
  {
   "cell_type": "code",
   "execution_count": null,
   "metadata": {},
   "outputs": [],
   "source": [
    "fig = go.Figure()\n",
    "\n",
    "# TODO - identify multiplier dynamically\n",
    "fares_normalised = normalise_series_to_first_value(tflFares[\"singleZ1to4OysterPeak\"][10:])\n",
    "stocks_normalised = normalise_series_to_first_value(ftse_yearly_max_prices['HIGH_1'].astype(float)[10:])\n",
    "\n",
    "# TRACES\n",
    "fig.add_trace(create_trace(x=ftse_yearly_max_prices['year'][10:], y=stocks_normalised * 200 - 200, label=\"FTSE100 highs\"))\n",
    "fig.add_trace(create_trace(x=tflFares['year'][10:], y=fares_normalised * 200 - 200, label=\"Contactless ticket\"))\n",
    "# fig.add_trace(create_trace(x=tflFares['year'][10:], y=normalise_series_to_first_value(tflFares[\"singleZ1to4Cash\"][10:]) * 200 - 200, label=\"Paper ticket\"))\n",
    "# fig.add_trace(create_trace(x=ftse_yearly_min_prices['year'][10:], y=normalise_series_to_first_value(ftse_yearly_max_prices['LOW_1'].astype(float)[10:]) * 200 - 200, label=\"FTSE100 lows\"))\n",
    "\n",
    "# LAYOUT\n",
    "layout = create_layout(title=\"TfL Tube Fares vs the FTSE100<br><sup>Prices are normalised between 0-100</sup>\")\n",
    "fig.update_layout(layout)\n",
    "fig.update_yaxes(title_text=\"Relative price\")\n",
    "fig.update_xaxes(title_text=\"Year\")\n",
    "\n",
    "fig.show()\n",
    "\n",
    "\n",
    "# TODO: add annotiations for starting price\n",
    "# Follow code here: https://plotly.com/python/line-charts/ -> section Label Lines with Annotations"
   ]
  },
  {
   "cell_type": "code",
   "execution_count": null,
   "metadata": {},
   "outputs": [],
   "source": [
    "# Multiplier pls\n",
    "m1 = fares_normalised.max()\n",
    "m2 = stocks_normalised.max()\n",
    "m = max(m1, m2)\n",
    "print(m)\n",
    "\n",
    "stocks_normalised"
   ]
  },
  {
   "cell_type": "code",
   "execution_count": null,
   "metadata": {},
   "outputs": [],
   "source": [
    "normalise_single_series_to_100(pd.concat([tflFares[\"singleZ1to4OysterPeak\"][10:], ftse_yearly_max_prices['HIGH_1'].astype(float)[10:]], axis=1))\n",
    "# I need the same starting point and for the max to be 100"
   ]
  },
  {
   "cell_type": "code",
   "execution_count": null,
   "metadata": {},
   "outputs": [],
   "source": [
    "# Create step non-decreasing step function\n",
    "fig = go.Figure()\n",
    "\n",
    "fares_normalised = normalise_series_to_first_value(tflFares[\"singleZ1to4OysterPeak\"][10:]) * 200 - 200\n",
    "stocks_normalised = normalise_series_to_first_value(ftse_yearly_max_prices['HIGH_1'].astype(float)[10:]) * 200 - 200\n",
    "# TRACES\n",
    "fig.add_trace(create_trace(\n",
    "    x=tflFares['year'][10:],\n",
    "    y=fares_normalised, \n",
    "    label=\"Contactless ticket (PAYG)\",\n",
    "    line_shape=\"hv\"\n",
    "))\n",
    "fig.add_trace(create_trace(\n",
    "    x=ftse_yearly_max_prices['year'][10:], \n",
    "    y=stocks_normalised, \n",
    "    label=\"FTSE100 annual highs\",\n",
    "    # line_shape=\"hv\"\n",
    "))\n",
    "\n",
    "# LAYOUT\n",
    "layout = create_layout(title=\"TfL Tube Fares vs the FTSE100<br><sup>Prices are normalised to the same starting point of 1</sup>\")\n",
    "fig.update_layout(layout)\n",
    "\n",
    "fig.show()"
   ]
  },
  {
   "cell_type": "code",
   "execution_count": null,
   "metadata": {},
   "outputs": [],
   "source": [
    "((fares_normalised - stocks_normalised) > 0).sum()\n",
    "# 11 out of 15 years the tube prices rose above the FTSE100\n",
    "\n",
    "# Reselling your tube tickets would reap in more revenue than investing it in the UK economy\n",
    "#  through a stock ISA. Sadiq, Rachel - wanna chip in?"
   ]
  },
  {
   "cell_type": "code",
   "execution_count": null,
   "id": "1d525d5b",
   "metadata": {},
   "outputs": [],
   "source": [
    "combined_fares = pd.read_csv(FARE_PRICES_DIR / \"processed\" / \"combined_transport_fares.csv\")\n",
    "combined_indices = pd.read_csv(STOCK_PRICES_DIR / \"combined_indices.csv\")\n",
    "# Time to plot dynamically. Variables\n",
    "# - Transport modes selected\n",
    "# - Indices selected\n",
    "# - Year range\n",
    "# How to distinguish between transport and stocks? Make transport costs a step function"
   ]
  },
  {
   "cell_type": "code",
   "execution_count": null,
   "id": "3dc63160",
   "metadata": {},
   "outputs": [],
   "source": [
    "import plotly.graph_objects as go\n",
    "\n",
    "def normalise_series_to_first_value(series):\n",
    "    return series / series.iloc[0]\n",
    "\n",
    "def scale_to_max_100(normalised_series):\n",
    "    # Scales the series so that max value corresponds to 100 (relative scaling)\n",
    "    max_val = normalised_series.max()\n",
    "    scale = 100 / max_val if max_val != 0 else 1\n",
    "    return normalised_series * scale\n",
    "\n",
    "def create_trace(x, y, label, line_shape='linear'):\n",
    "    return go.Scatter(x=x, y=y, mode='lines+markers', name=label, line_shape=line_shape)\n",
    "\n",
    "def create_layout(title):\n",
    "    return dict(\n",
    "        title=title,\n",
    "        width=900,\n",
    "        height=500,\n",
    "        xaxis=dict(\n",
    "            showgrid=False,\n",
    "            linecolor=\"#7f7f7f\",\n",
    "            linewidth=2,\n",
    "            ticks='outside'\n",
    "        ),\n",
    "        showlegend=True,\n",
    "        plot_bgcolor='white'\n",
    "    )\n",
    "\n",
    "def dynamic_plot(selected_transport_modes, selected_stock_indices, year_range,\n",
    "                 transport_data_dict, stock_data_dict):\n",
    "    fig = go.Figure()\n",
    "\n",
    "    # Find max growth among selected stock indices after normalisation (to scale others)\n",
    "    max_stock_growth = 0\n",
    "    scaled_stock_series = {}\n",
    "\n",
    "    # Process stock indices first to find max growth for scaling\n",
    "    for stock_key in selected_stock_indices:\n",
    "        df = stock_data_dict[stock_key]\n",
    "        df_filtered = df[(df['year'] >= year_range[0]) & (df['year'] <= year_range[1])]\n",
    "        norm_series = normalise_series_to_first_value(df_filtered['high'].astype(float))\n",
    "        scaled_series = scale_to_max_100(norm_series)\n",
    "        scaled_stock_series[stock_key] = (df_filtered['year'], scaled_series)\n",
    "        max_stock_growth = max(max_stock_growth, scaled_series.max())\n",
    "\n",
    "    # Plot stock indices, scaled to max 100 among them\n",
    "    for stock_key, (years, series) in scaled_stock_series.items():\n",
    "        # Scale series comparatively so max across all stocks is 100\n",
    "        scaled_y = series * (max_stock_growth / series.max() if series.max() != 0 else 1)\n",
    "        fig.add_trace(create_trace(\n",
    "            x=years,\n",
    "            y=scaled_y * 2 - 200,  # Shift as in your example for plot clarity, adjust if needed\n",
    "            label=f\"{stock_key} annual highs\",\n",
    "            line_shape='linear'\n",
    "        ))\n",
    "\n",
    "    # Transport modes: independently normalised with same multiplier for clarity, no scaling against stocks\n",
    "    # for mode in selected_transport_modes:\n",
    "    #     df = transport_data_dict[mode]\n",
    "    #     df_filtered = df[(df['year'] >= year_range[0]) & (df['year'] <= year_range[1])]\n",
    "    #     norm_series = normalise_series_to_first_value(df_filtered['price'])  # Replace 'price' with your actual column name\n",
    "    #     # No scaling here, just shifting for plot clarity as example\n",
    "    #     plotted_y = norm_series * 2 - 200\n",
    "    #     fig.add_trace(create_trace(\n",
    "    #         x=df_filtered['year'],\n",
    "    #         y=plotted_y,\n",
    "    #         label=f\"{mode} fare\",\n",
    "    #         line_shape='hv'  # Step function for transport modes\n",
    "    #     ))\n",
    "\n",
    "    layout = create_layout(\"Transport Fares vs Stock Indices<br><sup>Prices normalized and scaled for comparison</sup>\")\n",
    "    fig.update_layout(layout)\n",
    "    fig.show()\n",
    "\n",
    "dynamic_plot(\n",
    "    selected_transport_modes=[] # HALO\n",
    ")"
   ]
  },
  {
   "cell_type": "markdown",
   "id": "ecf98a9e",
   "metadata": {},
   "source": [
    "# Ideas, thoughts"
   ]
  },
  {
   "cell_type": "code",
   "execution_count": null,
   "metadata": {},
   "outputs": [],
   "source": [
    "# Create plotly/streamlit chart where one can select the following from a dropdown\n",
    "# - Stock Index -> Get S&P 500\n",
    "# Tranportation mode -> we have average rail and bus/coach fares too from \n",
    "\n",
    "# Also need a dropdown for selecting years (2000-2025) and deal with missing values pls\n",
    "# Though fares go back to 1987, and so do most indeces -> Did a search in perplexity\n",
    "\n",
    "# Sources\n",
    "# - Bus & coach: https://www.ons.gov.uk/economy/inflationandpriceindices/timeseries/docx/mm23\n",
    "# - Train: https://www.ons.gov.uk/economy/inflationandpriceindices/timeseries/docw/mm23\n",
    "# - FTSE100: downloaded from WSJ Markets\n",
    "# - S&P 500: downloaded from WSJ Markets\n",
    "# - DAX: downloaded from WSJ Markets\n",
    "# - Nikkei 225: downloaded from WSJ Markets\n",
    "# - Hang Seng: downloaded from WSJ Markets"
   ]
  }
 ],
 "metadata": {
  "kernelspec": {
   "display_name": "tfl-price-visualisations-py3.13 (3.13.5)",
   "language": "python",
   "name": "python3"
  },
  "language_info": {
   "codemirror_mode": {
    "name": "ipython",
    "version": 3
   },
   "file_extension": ".py",
   "mimetype": "text/x-python",
   "name": "python",
   "nbconvert_exporter": "python",
   "pygments_lexer": "ipython3",
   "version": "3.12.11"
  }
 },
 "nbformat": 4,
 "nbformat_minor": 5
}
