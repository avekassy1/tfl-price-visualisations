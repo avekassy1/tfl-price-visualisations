{
 "cells": [
  {
   "cell_type": "code",
   "execution_count": 1,
   "id": "b7705ed7",
   "metadata": {},
   "outputs": [],
   "source": [
    "import pandas as pd\n",
    "from pathlib import Path\n",
    "import os, sys\n",
    "import plotly.graph_objects as go\n",
    "import json\n",
    "\n",
    "# PROJECT_ROOT = Path(os.path.abspath('')).parents[1]\n",
    "# sys.path.insert(0,PROJECT_ROOT)\n",
    "\n",
    "module_path = os.path.abspath('..')\n",
    "if module_path not in sys.path:\n",
    "    sys.path.insert(0, module_path)\n",
    "\n",
    "\n",
    "from utils import LINE_AND_MARKER, create_layout, create_trace, comparison_plot, normalise_series_to_first_value"
   ]
  },
  {
   "cell_type": "markdown",
   "id": "e5854e8f",
   "metadata": {},
   "source": [
    "# Input Data"
   ]
  },
  {
   "cell_type": "code",
   "execution_count": 2,
   "id": "d1c2180e",
   "metadata": {},
   "outputs": [
    {
     "data": {
      "text/plain": [
       "PosixPath('/Users/avekassy/Desktop/codingProjects/visualisations/tfl-price-visualisations/data/stocks')"
      ]
     },
     "execution_count": 2,
     "metadata": {},
     "output_type": "execute_result"
    }
   ],
   "source": [
    "DATA_DIR = Path(os.path.abspath('')).parents[1] / \"data\"\n",
    "FARE_PRICES_DIR = DATA_DIR / \"fares\"\n",
    "STOCK_PRICES_DIR = DATA_DIR / \"stocks\"\n",
    "STOCK_PRICES_DIR"
   ]
  },
  {
   "cell_type": "code",
   "execution_count": 3,
   "id": "e8ff1a08",
   "metadata": {},
   "outputs": [
    {
     "data": {
      "application/vnd.microsoft.datawrangler.viewer.v0+json": {
       "columns": [
        {
         "name": "index",
         "rawType": "int64",
         "type": "integer"
        },
        {
         "name": "year",
         "rawType": "int64",
         "type": "integer"
        },
        {
         "name": "Single_Z1_to_Z4_Cash",
         "rawType": "float64",
         "type": "float"
        },
        {
         "name": "Single_Z1_to_Z4_Oyster_Peak",
         "rawType": "float64",
         "type": "float"
        },
        {
         "name": "Bus_Cash",
         "rawType": "float64",
         "type": "float"
        },
        {
         "name": "Single_Bus_Oyster",
         "rawType": "float64",
         "type": "float"
        },
        {
         "name": "Cap_Bus_Tram",
         "rawType": "float64",
         "type": "float"
        },
        {
         "name": "Travelcard_Z1_to_Z4",
         "rawType": "float64",
         "type": "float"
        },
        {
         "name": "Cap_Z1_to_Z4_PAYG",
         "rawType": "float64",
         "type": "float"
        },
        {
         "name": "Travelcard_7_Day_Z1_to_Z4",
         "rawType": "float64",
         "type": "float"
        },
        {
         "name": "Weekly_Bus_And_Tram_Pass",
         "rawType": "float64",
         "type": "float"
        }
       ],
       "ref": "8b37ee9e-b6fd-46db-9742-b50fd23babea",
       "rows": [
        [
         "0",
         "2000",
         "2.6",
         null,
         "1.0",
         null,
         null,
         null,
         null,
         "26.8",
         "11.5"
        ],
        [
         "1",
         "2001",
         "2.7",
         null,
         "1.0",
         null,
         null,
         null,
         null,
         "27.6",
         "9.5"
        ],
        [
         "2",
         "2002",
         "2.7",
         null,
         "1.0",
         null,
         null,
         "6.8",
         null,
         "28.1",
         "8.5"
        ],
        [
         "3",
         "2003",
         "2.8",
         null,
         "1.0",
         null,
         null,
         "7.0",
         null,
         "28.4",
         "8.5"
        ],
        [
         "4",
         "2004",
         "3.0",
         "2.8",
         "1.0",
         "0.7",
         null,
         "7.3",
         null,
         "29.2",
         "9.5"
        ],
        [
         "5",
         "2005",
         "2.8",
         "2.5",
         "1.2",
         "1.0",
         "3.0",
         "8.0",
         null,
         "30.4",
         "11.0"
        ],
        [
         "6",
         "2006",
         "3.0",
         "2.5",
         "1.5",
         "1.0",
         "3.0",
         "8.4",
         null,
         "31.6",
         "13.5"
        ],
        [
         "7",
         "2007",
         "4.0",
         "2.5",
         "2.0",
         "1.0",
         "3.0",
         "9.0",
         null,
         "33.2",
         "14.0"
        ],
        [
         "8",
         "2008",
         "4.0",
         "2.5",
         "2.0",
         "0.9",
         "3.0",
         "9.4",
         null,
         "34.6",
         "13.0"
        ],
        [
         "9",
         "2009",
         "4.0",
         "2.8",
         "2.0",
         "1.0",
         "3.3",
         "10.0",
         null,
         "36.8",
         "13.8"
        ],
        [
         "10",
         "2010",
         "4.0",
         "3.1",
         "2.0",
         "1.2",
         "3.9",
         "10.0",
         null,
         "36.8",
         "16.6"
        ],
        [
         "11",
         "2011",
         "5.0",
         "3.4",
         "2.2",
         "1.3",
         "4.0",
         "10.0",
         null,
         "39.4",
         "17.8"
        ],
        [
         "12",
         "2012",
         "5.3",
         "3.6",
         "2.3",
         "1.35",
         "4.2",
         "10.6",
         "10.6",
         "41.8",
         "18.8"
        ],
        [
         "13",
         "2013",
         "5.5",
         "3.8",
         "2.4",
         "1.4",
         "4.4",
         "11.0",
         "10.6",
         "43.6",
         "19.6"
        ],
        [
         "14",
         "2014",
         "5.7",
         "3.8",
         "2.4",
         "1.45",
         "4.4",
         "11.4",
         "10.6",
         "45.0",
         "20.2"
        ],
        [
         "15",
         "2015",
         "5.8",
         "3.9",
         null,
         "1.5",
         "4.4",
         "12.0",
         "9.2",
         "46.1",
         "21.0"
        ],
        [
         "16",
         "2016",
         "5.9",
         "3.9",
         null,
         "1.5",
         "4.5",
         "12.1",
         "9.3",
         "46.5",
         "21.2"
        ],
        [
         "17",
         "2017",
         "5.9",
         "3.9",
         null,
         "1.5",
         "4.5",
         "12.3",
         "9.5",
         "47.3",
         "21.2"
        ],
        [
         "18",
         "2018",
         "5.9",
         "3.9",
         null,
         "1.5",
         "4.5",
         "12.7",
         "9.8",
         "49.0",
         "21.2"
        ],
        [
         "19",
         "2019",
         "5.9",
         "3.9",
         null,
         "1.5",
         "4.5",
         "13.1",
         "10.1",
         "50.5",
         "21.2"
        ],
        [
         "20",
         "2020",
         "5.9",
         "3.9",
         null,
         "1.5",
         "4.5",
         "13.5",
         "10.4",
         "51.9",
         "21.2"
        ],
        [
         "21",
         "2021",
         "6.0",
         "4.0",
         null,
         "1.55",
         "4.65",
         "13.9",
         "10.6",
         "53.2",
         "21.9"
        ],
        [
         "22",
         "2022",
         "6.3",
         "4.3",
         null,
         "1.65",
         "4.95",
         "14.4",
         "11.0",
         "55.2",
         "23.3"
        ],
        [
         "23",
         "2023",
         "6.7",
         "4.4",
         null,
         "1.75",
         "5.25",
         "15.2",
         "11.7",
         "58.5",
         "24.7"
        ],
        [
         "24",
         "2024",
         "6.7",
         "4.4",
         null,
         "1.75",
         "5.25",
         "15.9",
         "12.3",
         "61.4",
         "24.7"
        ],
        [
         "25",
         "2025",
         "7.0",
         "4.6",
         null,
         "1.75",
         "5.25",
         "16.6",
         "12.8",
         "64.2",
         "24.7"
        ]
       ],
       "shape": {
        "columns": 10,
        "rows": 26
       }
      },
      "text/html": [
       "<div>\n",
       "<style scoped>\n",
       "    .dataframe tbody tr th:only-of-type {\n",
       "        vertical-align: middle;\n",
       "    }\n",
       "\n",
       "    .dataframe tbody tr th {\n",
       "        vertical-align: top;\n",
       "    }\n",
       "\n",
       "    .dataframe thead th {\n",
       "        text-align: right;\n",
       "    }\n",
       "</style>\n",
       "<table border=\"1\" class=\"dataframe\">\n",
       "  <thead>\n",
       "    <tr style=\"text-align: right;\">\n",
       "      <th></th>\n",
       "      <th>year</th>\n",
       "      <th>Single_Z1_to_Z4_Cash</th>\n",
       "      <th>Single_Z1_to_Z4_Oyster_Peak</th>\n",
       "      <th>Bus_Cash</th>\n",
       "      <th>Single_Bus_Oyster</th>\n",
       "      <th>Cap_Bus_Tram</th>\n",
       "      <th>Travelcard_Z1_to_Z4</th>\n",
       "      <th>Cap_Z1_to_Z4_PAYG</th>\n",
       "      <th>Travelcard_7_Day_Z1_to_Z4</th>\n",
       "      <th>Weekly_Bus_And_Tram_Pass</th>\n",
       "    </tr>\n",
       "  </thead>\n",
       "  <tbody>\n",
       "    <tr>\n",
       "      <th>0</th>\n",
       "      <td>2000</td>\n",
       "      <td>2.6</td>\n",
       "      <td>NaN</td>\n",
       "      <td>1.0</td>\n",
       "      <td>NaN</td>\n",
       "      <td>NaN</td>\n",
       "      <td>NaN</td>\n",
       "      <td>NaN</td>\n",
       "      <td>26.8</td>\n",
       "      <td>11.5</td>\n",
       "    </tr>\n",
       "    <tr>\n",
       "      <th>1</th>\n",
       "      <td>2001</td>\n",
       "      <td>2.7</td>\n",
       "      <td>NaN</td>\n",
       "      <td>1.0</td>\n",
       "      <td>NaN</td>\n",
       "      <td>NaN</td>\n",
       "      <td>NaN</td>\n",
       "      <td>NaN</td>\n",
       "      <td>27.6</td>\n",
       "      <td>9.5</td>\n",
       "    </tr>\n",
       "    <tr>\n",
       "      <th>2</th>\n",
       "      <td>2002</td>\n",
       "      <td>2.7</td>\n",
       "      <td>NaN</td>\n",
       "      <td>1.0</td>\n",
       "      <td>NaN</td>\n",
       "      <td>NaN</td>\n",
       "      <td>6.8</td>\n",
       "      <td>NaN</td>\n",
       "      <td>28.1</td>\n",
       "      <td>8.5</td>\n",
       "    </tr>\n",
       "    <tr>\n",
       "      <th>3</th>\n",
       "      <td>2003</td>\n",
       "      <td>2.8</td>\n",
       "      <td>NaN</td>\n",
       "      <td>1.0</td>\n",
       "      <td>NaN</td>\n",
       "      <td>NaN</td>\n",
       "      <td>7.0</td>\n",
       "      <td>NaN</td>\n",
       "      <td>28.4</td>\n",
       "      <td>8.5</td>\n",
       "    </tr>\n",
       "    <tr>\n",
       "      <th>4</th>\n",
       "      <td>2004</td>\n",
       "      <td>3.0</td>\n",
       "      <td>2.8</td>\n",
       "      <td>1.0</td>\n",
       "      <td>0.70</td>\n",
       "      <td>NaN</td>\n",
       "      <td>7.3</td>\n",
       "      <td>NaN</td>\n",
       "      <td>29.2</td>\n",
       "      <td>9.5</td>\n",
       "    </tr>\n",
       "    <tr>\n",
       "      <th>5</th>\n",
       "      <td>2005</td>\n",
       "      <td>2.8</td>\n",
       "      <td>2.5</td>\n",
       "      <td>1.2</td>\n",
       "      <td>1.00</td>\n",
       "      <td>3.00</td>\n",
       "      <td>8.0</td>\n",
       "      <td>NaN</td>\n",
       "      <td>30.4</td>\n",
       "      <td>11.0</td>\n",
       "    </tr>\n",
       "    <tr>\n",
       "      <th>6</th>\n",
       "      <td>2006</td>\n",
       "      <td>3.0</td>\n",
       "      <td>2.5</td>\n",
       "      <td>1.5</td>\n",
       "      <td>1.00</td>\n",
       "      <td>3.00</td>\n",
       "      <td>8.4</td>\n",
       "      <td>NaN</td>\n",
       "      <td>31.6</td>\n",
       "      <td>13.5</td>\n",
       "    </tr>\n",
       "    <tr>\n",
       "      <th>7</th>\n",
       "      <td>2007</td>\n",
       "      <td>4.0</td>\n",
       "      <td>2.5</td>\n",
       "      <td>2.0</td>\n",
       "      <td>1.00</td>\n",
       "      <td>3.00</td>\n",
       "      <td>9.0</td>\n",
       "      <td>NaN</td>\n",
       "      <td>33.2</td>\n",
       "      <td>14.0</td>\n",
       "    </tr>\n",
       "    <tr>\n",
       "      <th>8</th>\n",
       "      <td>2008</td>\n",
       "      <td>4.0</td>\n",
       "      <td>2.5</td>\n",
       "      <td>2.0</td>\n",
       "      <td>0.90</td>\n",
       "      <td>3.00</td>\n",
       "      <td>9.4</td>\n",
       "      <td>NaN</td>\n",
       "      <td>34.6</td>\n",
       "      <td>13.0</td>\n",
       "    </tr>\n",
       "    <tr>\n",
       "      <th>9</th>\n",
       "      <td>2009</td>\n",
       "      <td>4.0</td>\n",
       "      <td>2.8</td>\n",
       "      <td>2.0</td>\n",
       "      <td>1.00</td>\n",
       "      <td>3.30</td>\n",
       "      <td>10.0</td>\n",
       "      <td>NaN</td>\n",
       "      <td>36.8</td>\n",
       "      <td>13.8</td>\n",
       "    </tr>\n",
       "    <tr>\n",
       "      <th>10</th>\n",
       "      <td>2010</td>\n",
       "      <td>4.0</td>\n",
       "      <td>3.1</td>\n",
       "      <td>2.0</td>\n",
       "      <td>1.20</td>\n",
       "      <td>3.90</td>\n",
       "      <td>10.0</td>\n",
       "      <td>NaN</td>\n",
       "      <td>36.8</td>\n",
       "      <td>16.6</td>\n",
       "    </tr>\n",
       "    <tr>\n",
       "      <th>11</th>\n",
       "      <td>2011</td>\n",
       "      <td>5.0</td>\n",
       "      <td>3.4</td>\n",
       "      <td>2.2</td>\n",
       "      <td>1.30</td>\n",
       "      <td>4.00</td>\n",
       "      <td>10.0</td>\n",
       "      <td>NaN</td>\n",
       "      <td>39.4</td>\n",
       "      <td>17.8</td>\n",
       "    </tr>\n",
       "    <tr>\n",
       "      <th>12</th>\n",
       "      <td>2012</td>\n",
       "      <td>5.3</td>\n",
       "      <td>3.6</td>\n",
       "      <td>2.3</td>\n",
       "      <td>1.35</td>\n",
       "      <td>4.20</td>\n",
       "      <td>10.6</td>\n",
       "      <td>10.6</td>\n",
       "      <td>41.8</td>\n",
       "      <td>18.8</td>\n",
       "    </tr>\n",
       "    <tr>\n",
       "      <th>13</th>\n",
       "      <td>2013</td>\n",
       "      <td>5.5</td>\n",
       "      <td>3.8</td>\n",
       "      <td>2.4</td>\n",
       "      <td>1.40</td>\n",
       "      <td>4.40</td>\n",
       "      <td>11.0</td>\n",
       "      <td>10.6</td>\n",
       "      <td>43.6</td>\n",
       "      <td>19.6</td>\n",
       "    </tr>\n",
       "    <tr>\n",
       "      <th>14</th>\n",
       "      <td>2014</td>\n",
       "      <td>5.7</td>\n",
       "      <td>3.8</td>\n",
       "      <td>2.4</td>\n",
       "      <td>1.45</td>\n",
       "      <td>4.40</td>\n",
       "      <td>11.4</td>\n",
       "      <td>10.6</td>\n",
       "      <td>45.0</td>\n",
       "      <td>20.2</td>\n",
       "    </tr>\n",
       "    <tr>\n",
       "      <th>15</th>\n",
       "      <td>2015</td>\n",
       "      <td>5.8</td>\n",
       "      <td>3.9</td>\n",
       "      <td>NaN</td>\n",
       "      <td>1.50</td>\n",
       "      <td>4.40</td>\n",
       "      <td>12.0</td>\n",
       "      <td>9.2</td>\n",
       "      <td>46.1</td>\n",
       "      <td>21.0</td>\n",
       "    </tr>\n",
       "    <tr>\n",
       "      <th>16</th>\n",
       "      <td>2016</td>\n",
       "      <td>5.9</td>\n",
       "      <td>3.9</td>\n",
       "      <td>NaN</td>\n",
       "      <td>1.50</td>\n",
       "      <td>4.50</td>\n",
       "      <td>12.1</td>\n",
       "      <td>9.3</td>\n",
       "      <td>46.5</td>\n",
       "      <td>21.2</td>\n",
       "    </tr>\n",
       "    <tr>\n",
       "      <th>17</th>\n",
       "      <td>2017</td>\n",
       "      <td>5.9</td>\n",
       "      <td>3.9</td>\n",
       "      <td>NaN</td>\n",
       "      <td>1.50</td>\n",
       "      <td>4.50</td>\n",
       "      <td>12.3</td>\n",
       "      <td>9.5</td>\n",
       "      <td>47.3</td>\n",
       "      <td>21.2</td>\n",
       "    </tr>\n",
       "    <tr>\n",
       "      <th>18</th>\n",
       "      <td>2018</td>\n",
       "      <td>5.9</td>\n",
       "      <td>3.9</td>\n",
       "      <td>NaN</td>\n",
       "      <td>1.50</td>\n",
       "      <td>4.50</td>\n",
       "      <td>12.7</td>\n",
       "      <td>9.8</td>\n",
       "      <td>49.0</td>\n",
       "      <td>21.2</td>\n",
       "    </tr>\n",
       "    <tr>\n",
       "      <th>19</th>\n",
       "      <td>2019</td>\n",
       "      <td>5.9</td>\n",
       "      <td>3.9</td>\n",
       "      <td>NaN</td>\n",
       "      <td>1.50</td>\n",
       "      <td>4.50</td>\n",
       "      <td>13.1</td>\n",
       "      <td>10.1</td>\n",
       "      <td>50.5</td>\n",
       "      <td>21.2</td>\n",
       "    </tr>\n",
       "    <tr>\n",
       "      <th>20</th>\n",
       "      <td>2020</td>\n",
       "      <td>5.9</td>\n",
       "      <td>3.9</td>\n",
       "      <td>NaN</td>\n",
       "      <td>1.50</td>\n",
       "      <td>4.50</td>\n",
       "      <td>13.5</td>\n",
       "      <td>10.4</td>\n",
       "      <td>51.9</td>\n",
       "      <td>21.2</td>\n",
       "    </tr>\n",
       "    <tr>\n",
       "      <th>21</th>\n",
       "      <td>2021</td>\n",
       "      <td>6.0</td>\n",
       "      <td>4.0</td>\n",
       "      <td>NaN</td>\n",
       "      <td>1.55</td>\n",
       "      <td>4.65</td>\n",
       "      <td>13.9</td>\n",
       "      <td>10.6</td>\n",
       "      <td>53.2</td>\n",
       "      <td>21.9</td>\n",
       "    </tr>\n",
       "    <tr>\n",
       "      <th>22</th>\n",
       "      <td>2022</td>\n",
       "      <td>6.3</td>\n",
       "      <td>4.3</td>\n",
       "      <td>NaN</td>\n",
       "      <td>1.65</td>\n",
       "      <td>4.95</td>\n",
       "      <td>14.4</td>\n",
       "      <td>11.0</td>\n",
       "      <td>55.2</td>\n",
       "      <td>23.3</td>\n",
       "    </tr>\n",
       "    <tr>\n",
       "      <th>23</th>\n",
       "      <td>2023</td>\n",
       "      <td>6.7</td>\n",
       "      <td>4.4</td>\n",
       "      <td>NaN</td>\n",
       "      <td>1.75</td>\n",
       "      <td>5.25</td>\n",
       "      <td>15.2</td>\n",
       "      <td>11.7</td>\n",
       "      <td>58.5</td>\n",
       "      <td>24.7</td>\n",
       "    </tr>\n",
       "    <tr>\n",
       "      <th>24</th>\n",
       "      <td>2024</td>\n",
       "      <td>6.7</td>\n",
       "      <td>4.4</td>\n",
       "      <td>NaN</td>\n",
       "      <td>1.75</td>\n",
       "      <td>5.25</td>\n",
       "      <td>15.9</td>\n",
       "      <td>12.3</td>\n",
       "      <td>61.4</td>\n",
       "      <td>24.7</td>\n",
       "    </tr>\n",
       "    <tr>\n",
       "      <th>25</th>\n",
       "      <td>2025</td>\n",
       "      <td>7.0</td>\n",
       "      <td>4.6</td>\n",
       "      <td>NaN</td>\n",
       "      <td>1.75</td>\n",
       "      <td>5.25</td>\n",
       "      <td>16.6</td>\n",
       "      <td>12.8</td>\n",
       "      <td>64.2</td>\n",
       "      <td>24.7</td>\n",
       "    </tr>\n",
       "  </tbody>\n",
       "</table>\n",
       "</div>"
      ],
      "text/plain": [
       "    year  Single_Z1_to_Z4_Cash  Single_Z1_to_Z4_Oyster_Peak  Bus_Cash  \\\n",
       "0   2000                   2.6                          NaN       1.0   \n",
       "1   2001                   2.7                          NaN       1.0   \n",
       "2   2002                   2.7                          NaN       1.0   \n",
       "3   2003                   2.8                          NaN       1.0   \n",
       "4   2004                   3.0                          2.8       1.0   \n",
       "5   2005                   2.8                          2.5       1.2   \n",
       "6   2006                   3.0                          2.5       1.5   \n",
       "7   2007                   4.0                          2.5       2.0   \n",
       "8   2008                   4.0                          2.5       2.0   \n",
       "9   2009                   4.0                          2.8       2.0   \n",
       "10  2010                   4.0                          3.1       2.0   \n",
       "11  2011                   5.0                          3.4       2.2   \n",
       "12  2012                   5.3                          3.6       2.3   \n",
       "13  2013                   5.5                          3.8       2.4   \n",
       "14  2014                   5.7                          3.8       2.4   \n",
       "15  2015                   5.8                          3.9       NaN   \n",
       "16  2016                   5.9                          3.9       NaN   \n",
       "17  2017                   5.9                          3.9       NaN   \n",
       "18  2018                   5.9                          3.9       NaN   \n",
       "19  2019                   5.9                          3.9       NaN   \n",
       "20  2020                   5.9                          3.9       NaN   \n",
       "21  2021                   6.0                          4.0       NaN   \n",
       "22  2022                   6.3                          4.3       NaN   \n",
       "23  2023                   6.7                          4.4       NaN   \n",
       "24  2024                   6.7                          4.4       NaN   \n",
       "25  2025                   7.0                          4.6       NaN   \n",
       "\n",
       "    Single_Bus_Oyster  Cap_Bus_Tram  Travelcard_Z1_to_Z4  Cap_Z1_to_Z4_PAYG  \\\n",
       "0                 NaN           NaN                  NaN                NaN   \n",
       "1                 NaN           NaN                  NaN                NaN   \n",
       "2                 NaN           NaN                  6.8                NaN   \n",
       "3                 NaN           NaN                  7.0                NaN   \n",
       "4                0.70           NaN                  7.3                NaN   \n",
       "5                1.00          3.00                  8.0                NaN   \n",
       "6                1.00          3.00                  8.4                NaN   \n",
       "7                1.00          3.00                  9.0                NaN   \n",
       "8                0.90          3.00                  9.4                NaN   \n",
       "9                1.00          3.30                 10.0                NaN   \n",
       "10               1.20          3.90                 10.0                NaN   \n",
       "11               1.30          4.00                 10.0                NaN   \n",
       "12               1.35          4.20                 10.6               10.6   \n",
       "13               1.40          4.40                 11.0               10.6   \n",
       "14               1.45          4.40                 11.4               10.6   \n",
       "15               1.50          4.40                 12.0                9.2   \n",
       "16               1.50          4.50                 12.1                9.3   \n",
       "17               1.50          4.50                 12.3                9.5   \n",
       "18               1.50          4.50                 12.7                9.8   \n",
       "19               1.50          4.50                 13.1               10.1   \n",
       "20               1.50          4.50                 13.5               10.4   \n",
       "21               1.55          4.65                 13.9               10.6   \n",
       "22               1.65          4.95                 14.4               11.0   \n",
       "23               1.75          5.25                 15.2               11.7   \n",
       "24               1.75          5.25                 15.9               12.3   \n",
       "25               1.75          5.25                 16.6               12.8   \n",
       "\n",
       "    Travelcard_7_Day_Z1_to_Z4  Weekly_Bus_And_Tram_Pass  \n",
       "0                        26.8                      11.5  \n",
       "1                        27.6                       9.5  \n",
       "2                        28.1                       8.5  \n",
       "3                        28.4                       8.5  \n",
       "4                        29.2                       9.5  \n",
       "5                        30.4                      11.0  \n",
       "6                        31.6                      13.5  \n",
       "7                        33.2                      14.0  \n",
       "8                        34.6                      13.0  \n",
       "9                        36.8                      13.8  \n",
       "10                       36.8                      16.6  \n",
       "11                       39.4                      17.8  \n",
       "12                       41.8                      18.8  \n",
       "13                       43.6                      19.6  \n",
       "14                       45.0                      20.2  \n",
       "15                       46.1                      21.0  \n",
       "16                       46.5                      21.2  \n",
       "17                       47.3                      21.2  \n",
       "18                       49.0                      21.2  \n",
       "19                       50.5                      21.2  \n",
       "20                       51.9                      21.2  \n",
       "21                       53.2                      21.9  \n",
       "22                       55.2                      23.3  \n",
       "23                       58.5                      24.7  \n",
       "24                       61.4                      24.7  \n",
       "25                       64.2                      24.7  "
      ]
     },
     "execution_count": 3,
     "metadata": {},
     "output_type": "execute_result"
    }
   ],
   "source": [
    "tflFares = pd.read_csv(FARE_PRICES_DIR / \"raw\" / \"TfLHistoricalFares2000to2025.csv\")\n",
    "tflFares"
   ]
  },
  {
   "cell_type": "markdown",
   "id": "770ec1a9",
   "metadata": {},
   "source": [
    "# Charts"
   ]
  },
  {
   "cell_type": "code",
   "execution_count": 4,
   "metadata": {},
   "outputs": [],
   "source": [
    "def normalise_single_series_to_100(df):\n",
    "    return (df - df.min())/(df.max()-df.min()) * 100"
   ]
  },
  {
   "cell_type": "markdown",
   "id": "2c035fe5",
   "metadata": {},
   "source": [
    "## Tube Fares"
   ]
  },
  {
   "cell_type": "code",
   "execution_count": 5,
   "metadata": {},
   "outputs": [
    {
     "data": {
      "application/vnd.plotly.v1+json": {
       "config": {
        "plotlyServerURL": "https://plot.ly"
       },
       "data": [
        {
         "mode": "lines+markers",
         "name": "Contactless ticket",
         "type": "scatter",
         "x": {
          "bdata": "2gfbB9wH3QfeB98H4AfhB+IH4wfkB+UH5gfnB+gH6Qc=",
          "dtype": "i2"
         },
         "y": {
          "bdata": "AAAAAAAAAABYa6211lojQCSEEEIIITBAkFJKKaWUNkCQUkoppZQ2QNA555xzzjlA0DnnnHPOOUDQOeecc845QNA555xzzjlA0DnnnHPOOUDQOeecc845QAghhBBCCD1AWGuttdZaQ0D43nvvvfdEQPjee++990RAMMYYY4wxSEA=",
          "dtype": "f8"
         }
        },
        {
         "mode": "lines+markers",
         "name": "Paper ticket",
         "type": "scatter",
         "x": {
          "bdata": "2gfbB9wH3QfeB98H4AfhB+IH4wfkB+UH5gfnB+gH6Qc=",
          "dtype": "i2"
         },
         "y": {
          "bdata": "AAAAAAAAAAAAAAAAAAA5QAAAAAAAQEBAAAAAAADAQkAAAAAAAEBFQAAAAAAAgEZAAAAAAADAR0AAAAAAAMBHQAAAAAAAwEdAAAAAAADAR0AAAAAAAMBHQAAAAAAAAElAAAAAAADATEAAAAAAAOBQQAAAAAAA4FBAAAAAAADAUkA=",
          "dtype": "f8"
         }
        }
       ],
       "layout": {
        "font": {
         "color": "#31333F",
         "family": "sans-serif",
         "size": 16
        },
        "height": 400,
        "legend": {
         "x": 1,
         "y": 0.5
        },
        "margin": {
         "b": 40,
         "l": 40,
         "r": 20,
         "t": 20
        },
        "paper_bgcolor": "#fdfdf8",
        "plot_bgcolor": "#fdfdf8",
        "showlegend": true,
        "template": {
         "data": {
          "bar": [
           {
            "error_x": {
             "color": "#2a3f5f"
            },
            "error_y": {
             "color": "#2a3f5f"
            },
            "marker": {
             "line": {
              "color": "#E5ECF6",
              "width": 0.5
             },
             "pattern": {
              "fillmode": "overlay",
              "size": 10,
              "solidity": 0.2
             }
            },
            "type": "bar"
           }
          ],
          "barpolar": [
           {
            "marker": {
             "line": {
              "color": "#E5ECF6",
              "width": 0.5
             },
             "pattern": {
              "fillmode": "overlay",
              "size": 10,
              "solidity": 0.2
             }
            },
            "type": "barpolar"
           }
          ],
          "carpet": [
           {
            "aaxis": {
             "endlinecolor": "#2a3f5f",
             "gridcolor": "white",
             "linecolor": "white",
             "minorgridcolor": "white",
             "startlinecolor": "#2a3f5f"
            },
            "baxis": {
             "endlinecolor": "#2a3f5f",
             "gridcolor": "white",
             "linecolor": "white",
             "minorgridcolor": "white",
             "startlinecolor": "#2a3f5f"
            },
            "type": "carpet"
           }
          ],
          "choropleth": [
           {
            "colorbar": {
             "outlinewidth": 0,
             "ticks": ""
            },
            "type": "choropleth"
           }
          ],
          "contour": [
           {
            "colorbar": {
             "outlinewidth": 0,
             "ticks": ""
            },
            "colorscale": [
             [
              0,
              "#0d0887"
             ],
             [
              0.1111111111111111,
              "#46039f"
             ],
             [
              0.2222222222222222,
              "#7201a8"
             ],
             [
              0.3333333333333333,
              "#9c179e"
             ],
             [
              0.4444444444444444,
              "#bd3786"
             ],
             [
              0.5555555555555556,
              "#d8576b"
             ],
             [
              0.6666666666666666,
              "#ed7953"
             ],
             [
              0.7777777777777778,
              "#fb9f3a"
             ],
             [
              0.8888888888888888,
              "#fdca26"
             ],
             [
              1,
              "#f0f921"
             ]
            ],
            "type": "contour"
           }
          ],
          "contourcarpet": [
           {
            "colorbar": {
             "outlinewidth": 0,
             "ticks": ""
            },
            "type": "contourcarpet"
           }
          ],
          "heatmap": [
           {
            "colorbar": {
             "outlinewidth": 0,
             "ticks": ""
            },
            "colorscale": [
             [
              0,
              "#0d0887"
             ],
             [
              0.1111111111111111,
              "#46039f"
             ],
             [
              0.2222222222222222,
              "#7201a8"
             ],
             [
              0.3333333333333333,
              "#9c179e"
             ],
             [
              0.4444444444444444,
              "#bd3786"
             ],
             [
              0.5555555555555556,
              "#d8576b"
             ],
             [
              0.6666666666666666,
              "#ed7953"
             ],
             [
              0.7777777777777778,
              "#fb9f3a"
             ],
             [
              0.8888888888888888,
              "#fdca26"
             ],
             [
              1,
              "#f0f921"
             ]
            ],
            "type": "heatmap"
           }
          ],
          "histogram": [
           {
            "marker": {
             "pattern": {
              "fillmode": "overlay",
              "size": 10,
              "solidity": 0.2
             }
            },
            "type": "histogram"
           }
          ],
          "histogram2d": [
           {
            "colorbar": {
             "outlinewidth": 0,
             "ticks": ""
            },
            "colorscale": [
             [
              0,
              "#0d0887"
             ],
             [
              0.1111111111111111,
              "#46039f"
             ],
             [
              0.2222222222222222,
              "#7201a8"
             ],
             [
              0.3333333333333333,
              "#9c179e"
             ],
             [
              0.4444444444444444,
              "#bd3786"
             ],
             [
              0.5555555555555556,
              "#d8576b"
             ],
             [
              0.6666666666666666,
              "#ed7953"
             ],
             [
              0.7777777777777778,
              "#fb9f3a"
             ],
             [
              0.8888888888888888,
              "#fdca26"
             ],
             [
              1,
              "#f0f921"
             ]
            ],
            "type": "histogram2d"
           }
          ],
          "histogram2dcontour": [
           {
            "colorbar": {
             "outlinewidth": 0,
             "ticks": ""
            },
            "colorscale": [
             [
              0,
              "#0d0887"
             ],
             [
              0.1111111111111111,
              "#46039f"
             ],
             [
              0.2222222222222222,
              "#7201a8"
             ],
             [
              0.3333333333333333,
              "#9c179e"
             ],
             [
              0.4444444444444444,
              "#bd3786"
             ],
             [
              0.5555555555555556,
              "#d8576b"
             ],
             [
              0.6666666666666666,
              "#ed7953"
             ],
             [
              0.7777777777777778,
              "#fb9f3a"
             ],
             [
              0.8888888888888888,
              "#fdca26"
             ],
             [
              1,
              "#f0f921"
             ]
            ],
            "type": "histogram2dcontour"
           }
          ],
          "mesh3d": [
           {
            "colorbar": {
             "outlinewidth": 0,
             "ticks": ""
            },
            "type": "mesh3d"
           }
          ],
          "parcoords": [
           {
            "line": {
             "colorbar": {
              "outlinewidth": 0,
              "ticks": ""
             }
            },
            "type": "parcoords"
           }
          ],
          "pie": [
           {
            "automargin": true,
            "type": "pie"
           }
          ],
          "scatter": [
           {
            "fillpattern": {
             "fillmode": "overlay",
             "size": 10,
             "solidity": 0.2
            },
            "type": "scatter"
           }
          ],
          "scatter3d": [
           {
            "line": {
             "colorbar": {
              "outlinewidth": 0,
              "ticks": ""
             }
            },
            "marker": {
             "colorbar": {
              "outlinewidth": 0,
              "ticks": ""
             }
            },
            "type": "scatter3d"
           }
          ],
          "scattercarpet": [
           {
            "marker": {
             "colorbar": {
              "outlinewidth": 0,
              "ticks": ""
             }
            },
            "type": "scattercarpet"
           }
          ],
          "scattergeo": [
           {
            "marker": {
             "colorbar": {
              "outlinewidth": 0,
              "ticks": ""
             }
            },
            "type": "scattergeo"
           }
          ],
          "scattergl": [
           {
            "marker": {
             "colorbar": {
              "outlinewidth": 0,
              "ticks": ""
             }
            },
            "type": "scattergl"
           }
          ],
          "scattermap": [
           {
            "marker": {
             "colorbar": {
              "outlinewidth": 0,
              "ticks": ""
             }
            },
            "type": "scattermap"
           }
          ],
          "scattermapbox": [
           {
            "marker": {
             "colorbar": {
              "outlinewidth": 0,
              "ticks": ""
             }
            },
            "type": "scattermapbox"
           }
          ],
          "scatterpolar": [
           {
            "marker": {
             "colorbar": {
              "outlinewidth": 0,
              "ticks": ""
             }
            },
            "type": "scatterpolar"
           }
          ],
          "scatterpolargl": [
           {
            "marker": {
             "colorbar": {
              "outlinewidth": 0,
              "ticks": ""
             }
            },
            "type": "scatterpolargl"
           }
          ],
          "scatterternary": [
           {
            "marker": {
             "colorbar": {
              "outlinewidth": 0,
              "ticks": ""
             }
            },
            "type": "scatterternary"
           }
          ],
          "surface": [
           {
            "colorbar": {
             "outlinewidth": 0,
             "ticks": ""
            },
            "colorscale": [
             [
              0,
              "#0d0887"
             ],
             [
              0.1111111111111111,
              "#46039f"
             ],
             [
              0.2222222222222222,
              "#7201a8"
             ],
             [
              0.3333333333333333,
              "#9c179e"
             ],
             [
              0.4444444444444444,
              "#bd3786"
             ],
             [
              0.5555555555555556,
              "#d8576b"
             ],
             [
              0.6666666666666666,
              "#ed7953"
             ],
             [
              0.7777777777777778,
              "#fb9f3a"
             ],
             [
              0.8888888888888888,
              "#fdca26"
             ],
             [
              1,
              "#f0f921"
             ]
            ],
            "type": "surface"
           }
          ],
          "table": [
           {
            "cells": {
             "fill": {
              "color": "#EBF0F8"
             },
             "line": {
              "color": "white"
             }
            },
            "header": {
             "fill": {
              "color": "#C8D4E3"
             },
             "line": {
              "color": "white"
             }
            },
            "type": "table"
           }
          ]
         },
         "layout": {
          "annotationdefaults": {
           "arrowcolor": "#2a3f5f",
           "arrowhead": 0,
           "arrowwidth": 1
          },
          "autotypenumbers": "strict",
          "coloraxis": {
           "colorbar": {
            "outlinewidth": 0,
            "ticks": ""
           }
          },
          "colorscale": {
           "diverging": [
            [
             0,
             "#8e0152"
            ],
            [
             0.1,
             "#c51b7d"
            ],
            [
             0.2,
             "#de77ae"
            ],
            [
             0.3,
             "#f1b6da"
            ],
            [
             0.4,
             "#fde0ef"
            ],
            [
             0.5,
             "#f7f7f7"
            ],
            [
             0.6,
             "#e6f5d0"
            ],
            [
             0.7,
             "#b8e186"
            ],
            [
             0.8,
             "#7fbc41"
            ],
            [
             0.9,
             "#4d9221"
            ],
            [
             1,
             "#276419"
            ]
           ],
           "sequential": [
            [
             0,
             "#0d0887"
            ],
            [
             0.1111111111111111,
             "#46039f"
            ],
            [
             0.2222222222222222,
             "#7201a8"
            ],
            [
             0.3333333333333333,
             "#9c179e"
            ],
            [
             0.4444444444444444,
             "#bd3786"
            ],
            [
             0.5555555555555556,
             "#d8576b"
            ],
            [
             0.6666666666666666,
             "#ed7953"
            ],
            [
             0.7777777777777778,
             "#fb9f3a"
            ],
            [
             0.8888888888888888,
             "#fdca26"
            ],
            [
             1,
             "#f0f921"
            ]
           ],
           "sequentialminus": [
            [
             0,
             "#0d0887"
            ],
            [
             0.1111111111111111,
             "#46039f"
            ],
            [
             0.2222222222222222,
             "#7201a8"
            ],
            [
             0.3333333333333333,
             "#9c179e"
            ],
            [
             0.4444444444444444,
             "#bd3786"
            ],
            [
             0.5555555555555556,
             "#d8576b"
            ],
            [
             0.6666666666666666,
             "#ed7953"
            ],
            [
             0.7777777777777778,
             "#fb9f3a"
            ],
            [
             0.8888888888888888,
             "#fdca26"
            ],
            [
             1,
             "#f0f921"
            ]
           ]
          },
          "colorway": [
           "#636efa",
           "#EF553B",
           "#00cc96",
           "#ab63fa",
           "#FFA15A",
           "#19d3f3",
           "#FF6692",
           "#B6E880",
           "#FF97FF",
           "#FECB52"
          ],
          "font": {
           "color": "#2a3f5f"
          },
          "geo": {
           "bgcolor": "white",
           "lakecolor": "white",
           "landcolor": "#E5ECF6",
           "showlakes": true,
           "showland": true,
           "subunitcolor": "white"
          },
          "hoverlabel": {
           "align": "left"
          },
          "hovermode": "closest",
          "mapbox": {
           "style": "light"
          },
          "paper_bgcolor": "white",
          "plot_bgcolor": "#E5ECF6",
          "polar": {
           "angularaxis": {
            "gridcolor": "white",
            "linecolor": "white",
            "ticks": ""
           },
           "bgcolor": "#E5ECF6",
           "radialaxis": {
            "gridcolor": "white",
            "linecolor": "white",
            "ticks": ""
           }
          },
          "scene": {
           "xaxis": {
            "backgroundcolor": "#E5ECF6",
            "gridcolor": "white",
            "gridwidth": 2,
            "linecolor": "white",
            "showbackground": true,
            "ticks": "",
            "zerolinecolor": "white"
           },
           "yaxis": {
            "backgroundcolor": "#E5ECF6",
            "gridcolor": "white",
            "gridwidth": 2,
            "linecolor": "white",
            "showbackground": true,
            "ticks": "",
            "zerolinecolor": "white"
           },
           "zaxis": {
            "backgroundcolor": "#E5ECF6",
            "gridcolor": "white",
            "gridwidth": 2,
            "linecolor": "white",
            "showbackground": true,
            "ticks": "",
            "zerolinecolor": "white"
           }
          },
          "shapedefaults": {
           "line": {
            "color": "#2a3f5f"
           }
          },
          "ternary": {
           "aaxis": {
            "gridcolor": "white",
            "linecolor": "white",
            "ticks": ""
           },
           "baxis": {
            "gridcolor": "white",
            "linecolor": "white",
            "ticks": ""
           },
           "bgcolor": "#E5ECF6",
           "caxis": {
            "gridcolor": "white",
            "linecolor": "white",
            "ticks": ""
           }
          },
          "title": {
           "x": 0.05
          },
          "xaxis": {
           "automargin": true,
           "gridcolor": "white",
           "linecolor": "white",
           "ticks": "",
           "title": {
            "standoff": 15
           },
           "zerolinecolor": "white",
           "zerolinewidth": 2
          },
          "yaxis": {
           "automargin": true,
           "gridcolor": "white",
           "linecolor": "white",
           "ticks": "",
           "title": {
            "standoff": 15
           },
           "zerolinecolor": "white",
           "zerolinewidth": 2
          }
         }
        },
        "width": 960,
        "xaxis": {
         "linecolor": "#7f7f7f",
         "linewidth": 2,
         "showgrid": false,
         "tickfont": {
          "color": "#7f7f7f"
         },
         "ticks": "outside",
         "title": {
          "text": "Year"
         }
        },
        "yaxis": {
         "tickfont": {
          "color": "#7f7f7f"
         }
        }
       }
      }
     },
     "metadata": {},
     "output_type": "display_data"
    }
   ],
   "source": [
    "fig = go.Figure()\n",
    "# TRACES\n",
    "fig.add_trace(create_trace(x=tflFares['year'][10:], y=normalise_series_to_first_value(tflFares[\"Single_Z1_to_Z4_Oyster_Peak\"][10:]) * 100 - 100, label=\"Contactless ticket\"))\n",
    "fig.add_trace(create_trace(x=tflFares['year'][10:], y=normalise_series_to_first_value(tflFares[\"Single_Z1_to_Z4_Cash\"][10:]) * 100 - 100, label=\"Paper ticket\"))\n",
    "# fig.add_trace(create_trace(x=tflFares['year'][10:], y=normalise_single_series_to_100(tflFares[\"singleZ1to4OysterPeak\"][10:]), label=\"Contactless ticket\"))\n",
    "# fig.add_trace(create_trace(x=tflFares['year'][10:], y=normalise_single_series_to_100(tflFares[\"singleZ1to4Cash\"][10:]), label=\"Paper ticket\"))\n",
    "# LAYOUT\n",
    "layout = create_layout(title=\"Normalised TfL Tube Fares <br><sup>Zone 1-4 travel during peak hours</sup>\")\n",
    "fig.update_layout(layout)\n",
    "\n",
    "fig.show()"
   ]
  },
  {
   "cell_type": "code",
   "execution_count": 6,
   "id": "1df38b57",
   "metadata": {},
   "outputs": [],
   "source": [
    "# Get pay-as-you-go caps as well\n",
    "# How many journeys are required to reach the cap? -> could put it as barchart underneath\n",
    "# tflFares['capZ1to4PAYG']/tflFares['singleZ1to4OysterPeak']\n",
    "\n",
    "# fig = go.Figure()\n",
    "# # TRACES\n",
    "# fig.add_trace(create_trace(x=tflFares['year'], y=tflFares['capZ1to4PAYG'], label=\"PAYG Cap\"))\n",
    "# # fig.add_trace(create_trace(x=tflFares['year'], y=tflFares['travelcard7DayZ1to4'], label=\"travelcard7DayZ1to4\"))\n",
    "# # LAYOUT\n",
    "# layout = create_layout(title=\"TfL Tube Fares <br><sup>Zone 1-4 travel during peak hours</sup>\")\n",
    "# fig.update_layout(layout)\n",
    "\n",
    "# fig.update_xaxes(range=[2012,2025])\n",
    "\n",
    "# fig.show()"
   ]
  },
  {
   "cell_type": "markdown",
   "metadata": {},
   "source": [
    "## FTSE100"
   ]
  },
  {
   "cell_type": "code",
   "execution_count": 7,
   "metadata": {},
   "outputs": [
    {
     "data": {
      "application/vnd.microsoft.datawrangler.viewer.v0+json": {
       "columns": [
        {
         "name": "index",
         "rawType": "int64",
         "type": "integer"
        },
        {
         "name": "_DATE_END",
         "rawType": "object",
         "type": "string"
        },
        {
         "name": "LOW_1",
         "rawType": "object",
         "type": "string"
        },
        {
         "name": "CLOSE_PRC",
         "rawType": "object",
         "type": "string"
        },
        {
         "name": "HIGH_1",
         "rawType": "object",
         "type": "string"
        },
        {
         "name": "OPEN_PRC",
         "rawType": "object",
         "type": "string"
        }
       ],
       "ref": "2b53c23f-5b6a-4c68-a276-5b913a37a6f7",
       "rows": [
        [
         "0",
         "2000-01-31",
         "6246.8",
         "6268.54",
         "6930.2",
         "6930.2"
        ],
        [
         "1",
         "2000-02-29",
         "5972.7",
         "6232.56",
         "6450.9",
         "6268.5"
        ],
        [
         "2",
         "2000-03-31",
         "6232.6",
         "6540.22",
         "6770.4",
         "6232.6"
        ],
        [
         "3",
         "2000-04-30",
         "5915.2",
         "6327.43",
         "6586.3",
         "6540.2"
        ],
        [
         "4",
         "2000-05-31",
         "5991.9",
         "6359.35",
         "6419.9",
         "6327.4"
        ],
        [
         "5",
         "2000-06-30",
         "6221.0",
         "6312.71",
         "6635.7",
         "6359.3"
        ],
        [
         "6",
         "2000-07-31",
         "6274.9",
         "6365.26",
         "6545.1",
         "6312.7"
        ],
        [
         "7",
         "2000-08-31",
         "6296.4",
         "6672.66",
         "6675.7",
         "6365.3"
        ],
        [
         "8",
         "2000-09-30",
         "6075.1",
         "6294.24",
         "6838.6",
         "6672.7"
        ],
        [
         "9",
         "2000-10-31",
         "6017.2",
         "6438.42",
         "6475.8",
         "6294.2"
        ],
        [
         "10",
         "2000-11-30",
         "6070.0",
         "6142.19",
         "6514.7",
         "6438.4"
        ],
        [
         "11",
         "2000-12-31",
         "6083.7",
         "6222.46",
         "6421.5",
         "6142.2"
        ],
        [
         "12",
         "2001-01-31",
         "6029.3",
         "6297.53",
         "6360.3",
         "6222.5"
        ],
        [
         "13",
         "2001-02-28",
         "5901.7",
         "5917.88",
         "6309.9",
         "6297.5"
        ],
        [
         "14",
         "2001-03-31",
         "5279.6",
         "5633.73",
         "6050.4",
         "5917.9"
        ],
        [
         "15",
         "2001-04-30",
         "5354.3",
         "5966.95",
         "5995.4",
         "5633.7"
        ],
        [
         "16",
         "2001-05-31",
         "5690.5",
         "5796.15",
         "5993.7",
         "5966.9"
        ],
        [
         "17",
         "2001-06-30",
         "5519.6",
         "5642.5",
         "5981.8",
         "5796.1"
        ],
        [
         "18",
         "2001-07-31",
         "5260.5",
         "5529.05",
         "5726.1",
         "5642.5"
        ],
        [
         "19",
         "2001-08-31",
         "5286.7",
         "5344.97",
         "5644.2",
         "5529.1"
        ],
        [
         "20",
         "2001-09-30",
         "4219.8",
         "4903.39",
         "5379.6",
         "5345.0"
        ],
        [
         "21",
         "2001-10-31",
         "4730.7",
         "5039.71",
         "5279.8",
         "4903.4"
        ],
        [
         "22",
         "2001-11-30",
         "4988.3",
         "5203.55",
         "5383.2",
         "5039.7"
        ],
        [
         "23",
         "2001-12-31",
         "5032.3",
         "5217.35",
         "5411.2",
         "5203.6"
        ],
        [
         "24",
         "2002-01-31",
         "5052.8",
         "5164.78",
         "5362.3",
         "5217.4"
        ],
        [
         "25",
         "2002-02-28",
         "5015.5",
         "5100.96",
         "5238.0",
         "5164.8"
        ],
        [
         "26",
         "2002-03-31",
         "5101.0",
         "5271.76",
         "5331.6",
         "5101.0"
        ],
        [
         "27",
         "2002-04-30",
         "5116.0",
         "5165.58",
         "5292.3",
         "5271.8"
        ],
        [
         "28",
         "2002-05-31",
         "5016.9",
         "5085.07",
         "5282.2",
         "5165.6"
        ],
        [
         "29",
         "2002-06-30",
         "4442.9",
         "4656.36",
         "5085.1",
         "5085.1"
        ],
        [
         "30",
         "2002-07-31",
         "3625.9",
         "4246.21",
         "4708.7",
         "4656.4"
        ],
        [
         "31",
         "2002-08-31",
         "3900.7",
         "4227.28",
         "4466.4",
         "4246.2"
        ],
        [
         "32",
         "2002-09-30",
         "3609.9",
         "3721.75",
         "4246.4",
         "4227.3"
        ],
        [
         "33",
         "2002-10-31",
         "3663.4",
         "4039.66",
         "4197.5",
         "3721.8"
        ],
        [
         "34",
         "2002-11-30",
         "3953.3",
         "4169.41",
         "4224.8",
         "4039.7"
        ],
        [
         "35",
         "2002-12-31",
         "3803.4",
         "3940.36",
         "4218.6",
         "4169.4"
        ],
        [
         "36",
         "2003-01-31",
         "3391.5",
         "3567.41",
         "4027.6",
         "3940.4"
        ],
        [
         "37",
         "2003-02-28",
         "3535.1",
         "3655.58",
         "3747.0",
         "3567.4"
        ],
        [
         "38",
         "2003-03-31",
         "3277.5",
         "3613.28",
         "3881.7",
         "3655.6"
        ],
        [
         "39",
         "2003-04-30",
         "3612.3",
         "3925.97",
         "3997.3",
         "3613.3"
        ],
        [
         "40",
         "2003-05-31",
         "3875.3",
         "4048.14",
         "4096.0",
         "3926.0"
        ],
        [
         "41",
         "2003-06-30",
         "4021.6",
         "4031.17",
         "4218.8",
         "4048.1"
        ],
        [
         "42",
         "2003-07-31",
         "3951.5",
         "4157.02",
         "4183.0",
         "4031.2"
        ],
        [
         "43",
         "2003-08-31",
         "4044.9",
         "4161.06",
         "4286.9",
         "4157.0"
        ],
        [
         "44",
         "2003-09-30",
         "4081.8",
         "4091.31",
         "4329.6",
         "4161.1"
        ],
        [
         "45",
         "2003-10-31",
         "4091.3",
         "4287.59",
         "4393.8",
         "4091.3"
        ],
        [
         "46",
         "2003-11-30",
         "4270.5",
         "4342.6",
         "4423.6",
         "4287.6"
        ],
        [
         "47",
         "2003-12-31",
         "4312.5",
         "4476.87",
         "4491.8",
         "4342.6"
        ],
        [
         "48",
         "2004-01-31",
         "4390.7",
         "4390.68",
         "4531.4",
         "4476.9"
        ],
        [
         "49",
         "2004-02-29",
         "4357.4",
         "4492.21",
         "4556.9",
         "4390.7"
        ]
       ],
       "shape": {
        "columns": 5,
        "rows": 304
       }
      },
      "text/html": [
       "<div>\n",
       "<style scoped>\n",
       "    .dataframe tbody tr th:only-of-type {\n",
       "        vertical-align: middle;\n",
       "    }\n",
       "\n",
       "    .dataframe tbody tr th {\n",
       "        vertical-align: top;\n",
       "    }\n",
       "\n",
       "    .dataframe thead th {\n",
       "        text-align: right;\n",
       "    }\n",
       "</style>\n",
       "<table border=\"1\" class=\"dataframe\">\n",
       "  <thead>\n",
       "    <tr style=\"text-align: right;\">\n",
       "      <th></th>\n",
       "      <th>_DATE_END</th>\n",
       "      <th>LOW_1</th>\n",
       "      <th>CLOSE_PRC</th>\n",
       "      <th>HIGH_1</th>\n",
       "      <th>OPEN_PRC</th>\n",
       "    </tr>\n",
       "  </thead>\n",
       "  <tbody>\n",
       "    <tr>\n",
       "      <th>0</th>\n",
       "      <td>2000-01-31</td>\n",
       "      <td>6246.8</td>\n",
       "      <td>6268.54</td>\n",
       "      <td>6930.2</td>\n",
       "      <td>6930.2</td>\n",
       "    </tr>\n",
       "    <tr>\n",
       "      <th>1</th>\n",
       "      <td>2000-02-29</td>\n",
       "      <td>5972.7</td>\n",
       "      <td>6232.56</td>\n",
       "      <td>6450.9</td>\n",
       "      <td>6268.5</td>\n",
       "    </tr>\n",
       "    <tr>\n",
       "      <th>2</th>\n",
       "      <td>2000-03-31</td>\n",
       "      <td>6232.6</td>\n",
       "      <td>6540.22</td>\n",
       "      <td>6770.4</td>\n",
       "      <td>6232.6</td>\n",
       "    </tr>\n",
       "    <tr>\n",
       "      <th>3</th>\n",
       "      <td>2000-04-30</td>\n",
       "      <td>5915.2</td>\n",
       "      <td>6327.43</td>\n",
       "      <td>6586.3</td>\n",
       "      <td>6540.2</td>\n",
       "    </tr>\n",
       "    <tr>\n",
       "      <th>4</th>\n",
       "      <td>2000-05-31</td>\n",
       "      <td>5991.9</td>\n",
       "      <td>6359.35</td>\n",
       "      <td>6419.9</td>\n",
       "      <td>6327.4</td>\n",
       "    </tr>\n",
       "    <tr>\n",
       "      <th>...</th>\n",
       "      <td>...</td>\n",
       "      <td>...</td>\n",
       "      <td>...</td>\n",
       "      <td>...</td>\n",
       "      <td>...</td>\n",
       "    </tr>\n",
       "    <tr>\n",
       "      <th>299</th>\n",
       "      <td>2024-12-31</td>\n",
       "      <td>8002.34</td>\n",
       "      <td>8173.02</td>\n",
       "      <td>8388.37</td>\n",
       "      <td>8287.3</td>\n",
       "    </tr>\n",
       "    <tr>\n",
       "      <th>300</th>\n",
       "      <td>2025-01-31</td>\n",
       "      <td>8160.6</td>\n",
       "      <td>8673.96</td>\n",
       "      <td>8692.84</td>\n",
       "      <td>8173.02</td>\n",
       "    </tr>\n",
       "    <tr>\n",
       "      <th>301</th>\n",
       "      <td>2025-02-28</td>\n",
       "      <td>8520.2</td>\n",
       "      <td>8809.74</td>\n",
       "      <td>8820.93</td>\n",
       "      <td>8673.96</td>\n",
       "    </tr>\n",
       "    <tr>\n",
       "      <th>302</th>\n",
       "      <td>2025-03-31</td>\n",
       "      <td>8481.11</td>\n",
       "      <td>8582.81</td>\n",
       "      <td>8908.82</td>\n",
       "      <td>8809.74</td>\n",
       "    </tr>\n",
       "    <tr>\n",
       "      <th>303</th>\n",
       "      <td>2025-04-11</td>\n",
       "      <td>7544.83</td>\n",
       "      <td>7964.18</td>\n",
       "      <td>8671.91</td>\n",
       "      <td>8582.81</td>\n",
       "    </tr>\n",
       "  </tbody>\n",
       "</table>\n",
       "<p>304 rows × 5 columns</p>\n",
       "</div>"
      ],
      "text/plain": [
       "      _DATE_END    LOW_1 CLOSE_PRC   HIGH_1 OPEN_PRC\n",
       "0    2000-01-31   6246.8   6268.54   6930.2   6930.2\n",
       "1    2000-02-29   5972.7   6232.56   6450.9   6268.5\n",
       "2    2000-03-31   6232.6   6540.22   6770.4   6232.6\n",
       "3    2000-04-30   5915.2   6327.43   6586.3   6540.2\n",
       "4    2000-05-31   5991.9   6359.35   6419.9   6327.4\n",
       "..          ...      ...       ...      ...      ...\n",
       "299  2024-12-31  8002.34   8173.02  8388.37   8287.3\n",
       "300  2025-01-31   8160.6   8673.96  8692.84  8173.02\n",
       "301  2025-02-28   8520.2   8809.74  8820.93  8673.96\n",
       "302  2025-03-31  8481.11   8582.81  8908.82  8809.74\n",
       "303  2025-04-11  7544.83   7964.18  8671.91  8582.81\n",
       "\n",
       "[304 rows x 5 columns]"
      ]
     },
     "execution_count": 7,
     "metadata": {},
     "output_type": "execute_result"
    }
   ],
   "source": [
    "data = json.load(open(STOCK_PRICES_DIR / \"ftse100from2000to2025.json\"))\n",
    "ftse100 = pd.DataFrame(data['data'])\n",
    "ftse100\n",
    "# Month end value are reported from 2000 Jan to 2025 March + mid April"
   ]
  },
  {
   "cell_type": "code",
   "execution_count": 8,
   "id": "6692bc94",
   "metadata": {},
   "outputs": [
    {
     "data": {
      "application/vnd.microsoft.datawrangler.viewer.v0+json": {
       "columns": [
        {
         "name": "index",
         "rawType": "int64",
         "type": "integer"
        },
        {
         "name": "year",
         "rawType": "int32",
         "type": "integer"
        },
        {
         "name": "_DATE_END",
         "rawType": "datetime64[ns]",
         "type": "datetime"
        },
        {
         "name": "LOW_1",
         "rawType": "object",
         "type": "string"
        },
        {
         "name": "CLOSE_PRC",
         "rawType": "object",
         "type": "string"
        },
        {
         "name": "HIGH_1",
         "rawType": "object",
         "type": "string"
        },
        {
         "name": "OPEN_PRC",
         "rawType": "object",
         "type": "string"
        }
       ],
       "ref": "8be2e9ae-e60c-45a1-b401-97dc2826f058",
       "rows": [
        [
         "0",
         "2000",
         "2000-01-31 00:00:00",
         "5915.2",
         "6142.19",
         "6419.9",
         "6142.2"
        ],
        [
         "1",
         "2001",
         "2001-01-31 00:00:00",
         "4219.8",
         "4903.39",
         "5279.8",
         "4903.4"
        ],
        [
         "2",
         "2002",
         "2002-01-31 00:00:00",
         "3609.9",
         "3721.75",
         "4197.5",
         "3721.8"
        ],
        [
         "3",
         "2003",
         "2003-01-31 00:00:00",
         "3277.5",
         "3567.41",
         "3747.0",
         "3567.4"
        ],
        [
         "4",
         "2004",
         "2004-01-31 00:00:00",
         "4283.0",
         "4385.67",
         "4487.9",
         "4385.7"
        ]
       ],
       "shape": {
        "columns": 6,
        "rows": 5
       }
      },
      "text/html": [
       "<div>\n",
       "<style scoped>\n",
       "    .dataframe tbody tr th:only-of-type {\n",
       "        vertical-align: middle;\n",
       "    }\n",
       "\n",
       "    .dataframe tbody tr th {\n",
       "        vertical-align: top;\n",
       "    }\n",
       "\n",
       "    .dataframe thead th {\n",
       "        text-align: right;\n",
       "    }\n",
       "</style>\n",
       "<table border=\"1\" class=\"dataframe\">\n",
       "  <thead>\n",
       "    <tr style=\"text-align: right;\">\n",
       "      <th></th>\n",
       "      <th>year</th>\n",
       "      <th>_DATE_END</th>\n",
       "      <th>LOW_1</th>\n",
       "      <th>CLOSE_PRC</th>\n",
       "      <th>HIGH_1</th>\n",
       "      <th>OPEN_PRC</th>\n",
       "    </tr>\n",
       "  </thead>\n",
       "  <tbody>\n",
       "    <tr>\n",
       "      <th>0</th>\n",
       "      <td>2000</td>\n",
       "      <td>2000-01-31</td>\n",
       "      <td>5915.2</td>\n",
       "      <td>6142.19</td>\n",
       "      <td>6419.9</td>\n",
       "      <td>6142.2</td>\n",
       "    </tr>\n",
       "    <tr>\n",
       "      <th>1</th>\n",
       "      <td>2001</td>\n",
       "      <td>2001-01-31</td>\n",
       "      <td>4219.8</td>\n",
       "      <td>4903.39</td>\n",
       "      <td>5279.8</td>\n",
       "      <td>4903.4</td>\n",
       "    </tr>\n",
       "    <tr>\n",
       "      <th>2</th>\n",
       "      <td>2002</td>\n",
       "      <td>2002-01-31</td>\n",
       "      <td>3609.9</td>\n",
       "      <td>3721.75</td>\n",
       "      <td>4197.5</td>\n",
       "      <td>3721.8</td>\n",
       "    </tr>\n",
       "    <tr>\n",
       "      <th>3</th>\n",
       "      <td>2003</td>\n",
       "      <td>2003-01-31</td>\n",
       "      <td>3277.5</td>\n",
       "      <td>3567.41</td>\n",
       "      <td>3747.0</td>\n",
       "      <td>3567.4</td>\n",
       "    </tr>\n",
       "    <tr>\n",
       "      <th>4</th>\n",
       "      <td>2004</td>\n",
       "      <td>2004-01-31</td>\n",
       "      <td>4283.0</td>\n",
       "      <td>4385.67</td>\n",
       "      <td>4487.9</td>\n",
       "      <td>4385.7</td>\n",
       "    </tr>\n",
       "  </tbody>\n",
       "</table>\n",
       "</div>"
      ],
      "text/plain": [
       "   year  _DATE_END   LOW_1 CLOSE_PRC  HIGH_1 OPEN_PRC\n",
       "0  2000 2000-01-31  5915.2   6142.19  6419.9   6142.2\n",
       "1  2001 2001-01-31  4219.8   4903.39  5279.8   4903.4\n",
       "2  2002 2002-01-31  3609.9   3721.75  4197.5   3721.8\n",
       "3  2003 2003-01-31  3277.5   3567.41  3747.0   3567.4\n",
       "4  2004 2004-01-31  4283.0   4385.67  4487.9   4385.7"
      ]
     },
     "execution_count": 8,
     "metadata": {},
     "output_type": "execute_result"
    }
   ],
   "source": [
    "ftse100['_DATE_END'] = pd.to_datetime(ftse100['_DATE_END'])\n",
    "ftse100['year'] = ftse100['_DATE_END'].dt.year\n",
    "# ftse100['year'] = ftse100['_DATE_END'].apply(lambda x: int(x.split('-')[0]))\n",
    "\n",
    "ftse_yearly_max_prices = ftse100.groupby(\"year\", as_index=False).max() # HALO this is stupid\n",
    "ftse_yearly_max_prices = ftse_yearly_max_prices.sort_values(\"year\")\n",
    "\n",
    "ftse_yearly_min_prices = ftse100.groupby(\"year\", as_index=False).min()\n",
    "ftse_yearly_min_prices = ftse_yearly_min_prices.sort_values(\"year\")\n",
    "\n",
    "ftse_yearly_min_prices.head()"
   ]
  },
  {
   "cell_type": "markdown",
   "metadata": {},
   "source": [
    "## Combined Charts"
   ]
  },
  {
   "cell_type": "code",
   "execution_count": 9,
   "metadata": {},
   "outputs": [
    {
     "data": {
      "application/vnd.plotly.v1+json": {
       "config": {
        "plotlyServerURL": "https://plot.ly"
       },
       "data": [
        {
         "line": {
          "shape": "hv"
         },
         "mode": "lines+markers",
         "name": "Contactless ticket (PAYG)",
         "type": "scatter",
         "x": {
          "bdata": "2gfbB9wH3QfeB98H4AfhB+IH4wfkB+UH5gfnB+gH6Qc=",
          "dtype": "i2"
         },
         "y": {
          "bdata": "AAAAAAAAAABYa6211lozQCSEEEIIIUBAkFJKKaWURkCQUkoppZRGQNA555xzzklA0DnnnHPOSUDQOeecc85JQNA555xzzklA0DnnnHPOSUDQOeecc85JQAghhBBCCE1AWGuttdZaU0D43nvvvfdUQPjee++991RAMMYYY4wxWEA=",
          "dtype": "f8"
         }
        },
        {
         "mode": "lines+markers",
         "name": "FTSE100 annual highs",
         "type": "scatter",
         "x": {
          "bdata": "2gcAANsHAADcBwAA3QcAAN4HAADfBwAA4AcAAOEHAADiBwAA4wcAAOQHAADlBwAA5gcAAOcHAADoBwAA6QcAAA==",
          "dtype": "i4"
         },
         "y": {
          "bdata": "AAAAAAAAAADAQa/gDGcGQAAWZtOF9Om/YN2Y7dpePEDAWuMIe1c9QIBqGW0MSkJAKByv23WfQkBIlq7SINZLQGjZqj5rQU9AaMtFjR5VTEB0lRZAVLRLQKgI5qm810dADH0nJyCqS0AIPCIa4dFQQBAxCWZPXlRAWK+tp7/5V0A=",
          "dtype": "f8"
         }
        }
       ],
       "layout": {
        "font": {
         "color": "#31333F",
         "family": "sans-serif",
         "size": 16
        },
        "height": 400,
        "legend": {
         "x": 1,
         "y": 0.5
        },
        "margin": {
         "b": 40,
         "l": 40,
         "r": 20,
         "t": 20
        },
        "paper_bgcolor": "#fdfdf8",
        "plot_bgcolor": "#fdfdf8",
        "showlegend": true,
        "template": {
         "data": {
          "bar": [
           {
            "error_x": {
             "color": "#2a3f5f"
            },
            "error_y": {
             "color": "#2a3f5f"
            },
            "marker": {
             "line": {
              "color": "#E5ECF6",
              "width": 0.5
             },
             "pattern": {
              "fillmode": "overlay",
              "size": 10,
              "solidity": 0.2
             }
            },
            "type": "bar"
           }
          ],
          "barpolar": [
           {
            "marker": {
             "line": {
              "color": "#E5ECF6",
              "width": 0.5
             },
             "pattern": {
              "fillmode": "overlay",
              "size": 10,
              "solidity": 0.2
             }
            },
            "type": "barpolar"
           }
          ],
          "carpet": [
           {
            "aaxis": {
             "endlinecolor": "#2a3f5f",
             "gridcolor": "white",
             "linecolor": "white",
             "minorgridcolor": "white",
             "startlinecolor": "#2a3f5f"
            },
            "baxis": {
             "endlinecolor": "#2a3f5f",
             "gridcolor": "white",
             "linecolor": "white",
             "minorgridcolor": "white",
             "startlinecolor": "#2a3f5f"
            },
            "type": "carpet"
           }
          ],
          "choropleth": [
           {
            "colorbar": {
             "outlinewidth": 0,
             "ticks": ""
            },
            "type": "choropleth"
           }
          ],
          "contour": [
           {
            "colorbar": {
             "outlinewidth": 0,
             "ticks": ""
            },
            "colorscale": [
             [
              0,
              "#0d0887"
             ],
             [
              0.1111111111111111,
              "#46039f"
             ],
             [
              0.2222222222222222,
              "#7201a8"
             ],
             [
              0.3333333333333333,
              "#9c179e"
             ],
             [
              0.4444444444444444,
              "#bd3786"
             ],
             [
              0.5555555555555556,
              "#d8576b"
             ],
             [
              0.6666666666666666,
              "#ed7953"
             ],
             [
              0.7777777777777778,
              "#fb9f3a"
             ],
             [
              0.8888888888888888,
              "#fdca26"
             ],
             [
              1,
              "#f0f921"
             ]
            ],
            "type": "contour"
           }
          ],
          "contourcarpet": [
           {
            "colorbar": {
             "outlinewidth": 0,
             "ticks": ""
            },
            "type": "contourcarpet"
           }
          ],
          "heatmap": [
           {
            "colorbar": {
             "outlinewidth": 0,
             "ticks": ""
            },
            "colorscale": [
             [
              0,
              "#0d0887"
             ],
             [
              0.1111111111111111,
              "#46039f"
             ],
             [
              0.2222222222222222,
              "#7201a8"
             ],
             [
              0.3333333333333333,
              "#9c179e"
             ],
             [
              0.4444444444444444,
              "#bd3786"
             ],
             [
              0.5555555555555556,
              "#d8576b"
             ],
             [
              0.6666666666666666,
              "#ed7953"
             ],
             [
              0.7777777777777778,
              "#fb9f3a"
             ],
             [
              0.8888888888888888,
              "#fdca26"
             ],
             [
              1,
              "#f0f921"
             ]
            ],
            "type": "heatmap"
           }
          ],
          "histogram": [
           {
            "marker": {
             "pattern": {
              "fillmode": "overlay",
              "size": 10,
              "solidity": 0.2
             }
            },
            "type": "histogram"
           }
          ],
          "histogram2d": [
           {
            "colorbar": {
             "outlinewidth": 0,
             "ticks": ""
            },
            "colorscale": [
             [
              0,
              "#0d0887"
             ],
             [
              0.1111111111111111,
              "#46039f"
             ],
             [
              0.2222222222222222,
              "#7201a8"
             ],
             [
              0.3333333333333333,
              "#9c179e"
             ],
             [
              0.4444444444444444,
              "#bd3786"
             ],
             [
              0.5555555555555556,
              "#d8576b"
             ],
             [
              0.6666666666666666,
              "#ed7953"
             ],
             [
              0.7777777777777778,
              "#fb9f3a"
             ],
             [
              0.8888888888888888,
              "#fdca26"
             ],
             [
              1,
              "#f0f921"
             ]
            ],
            "type": "histogram2d"
           }
          ],
          "histogram2dcontour": [
           {
            "colorbar": {
             "outlinewidth": 0,
             "ticks": ""
            },
            "colorscale": [
             [
              0,
              "#0d0887"
             ],
             [
              0.1111111111111111,
              "#46039f"
             ],
             [
              0.2222222222222222,
              "#7201a8"
             ],
             [
              0.3333333333333333,
              "#9c179e"
             ],
             [
              0.4444444444444444,
              "#bd3786"
             ],
             [
              0.5555555555555556,
              "#d8576b"
             ],
             [
              0.6666666666666666,
              "#ed7953"
             ],
             [
              0.7777777777777778,
              "#fb9f3a"
             ],
             [
              0.8888888888888888,
              "#fdca26"
             ],
             [
              1,
              "#f0f921"
             ]
            ],
            "type": "histogram2dcontour"
           }
          ],
          "mesh3d": [
           {
            "colorbar": {
             "outlinewidth": 0,
             "ticks": ""
            },
            "type": "mesh3d"
           }
          ],
          "parcoords": [
           {
            "line": {
             "colorbar": {
              "outlinewidth": 0,
              "ticks": ""
             }
            },
            "type": "parcoords"
           }
          ],
          "pie": [
           {
            "automargin": true,
            "type": "pie"
           }
          ],
          "scatter": [
           {
            "fillpattern": {
             "fillmode": "overlay",
             "size": 10,
             "solidity": 0.2
            },
            "type": "scatter"
           }
          ],
          "scatter3d": [
           {
            "line": {
             "colorbar": {
              "outlinewidth": 0,
              "ticks": ""
             }
            },
            "marker": {
             "colorbar": {
              "outlinewidth": 0,
              "ticks": ""
             }
            },
            "type": "scatter3d"
           }
          ],
          "scattercarpet": [
           {
            "marker": {
             "colorbar": {
              "outlinewidth": 0,
              "ticks": ""
             }
            },
            "type": "scattercarpet"
           }
          ],
          "scattergeo": [
           {
            "marker": {
             "colorbar": {
              "outlinewidth": 0,
              "ticks": ""
             }
            },
            "type": "scattergeo"
           }
          ],
          "scattergl": [
           {
            "marker": {
             "colorbar": {
              "outlinewidth": 0,
              "ticks": ""
             }
            },
            "type": "scattergl"
           }
          ],
          "scattermap": [
           {
            "marker": {
             "colorbar": {
              "outlinewidth": 0,
              "ticks": ""
             }
            },
            "type": "scattermap"
           }
          ],
          "scattermapbox": [
           {
            "marker": {
             "colorbar": {
              "outlinewidth": 0,
              "ticks": ""
             }
            },
            "type": "scattermapbox"
           }
          ],
          "scatterpolar": [
           {
            "marker": {
             "colorbar": {
              "outlinewidth": 0,
              "ticks": ""
             }
            },
            "type": "scatterpolar"
           }
          ],
          "scatterpolargl": [
           {
            "marker": {
             "colorbar": {
              "outlinewidth": 0,
              "ticks": ""
             }
            },
            "type": "scatterpolargl"
           }
          ],
          "scatterternary": [
           {
            "marker": {
             "colorbar": {
              "outlinewidth": 0,
              "ticks": ""
             }
            },
            "type": "scatterternary"
           }
          ],
          "surface": [
           {
            "colorbar": {
             "outlinewidth": 0,
             "ticks": ""
            },
            "colorscale": [
             [
              0,
              "#0d0887"
             ],
             [
              0.1111111111111111,
              "#46039f"
             ],
             [
              0.2222222222222222,
              "#7201a8"
             ],
             [
              0.3333333333333333,
              "#9c179e"
             ],
             [
              0.4444444444444444,
              "#bd3786"
             ],
             [
              0.5555555555555556,
              "#d8576b"
             ],
             [
              0.6666666666666666,
              "#ed7953"
             ],
             [
              0.7777777777777778,
              "#fb9f3a"
             ],
             [
              0.8888888888888888,
              "#fdca26"
             ],
             [
              1,
              "#f0f921"
             ]
            ],
            "type": "surface"
           }
          ],
          "table": [
           {
            "cells": {
             "fill": {
              "color": "#EBF0F8"
             },
             "line": {
              "color": "white"
             }
            },
            "header": {
             "fill": {
              "color": "#C8D4E3"
             },
             "line": {
              "color": "white"
             }
            },
            "type": "table"
           }
          ]
         },
         "layout": {
          "annotationdefaults": {
           "arrowcolor": "#2a3f5f",
           "arrowhead": 0,
           "arrowwidth": 1
          },
          "autotypenumbers": "strict",
          "coloraxis": {
           "colorbar": {
            "outlinewidth": 0,
            "ticks": ""
           }
          },
          "colorscale": {
           "diverging": [
            [
             0,
             "#8e0152"
            ],
            [
             0.1,
             "#c51b7d"
            ],
            [
             0.2,
             "#de77ae"
            ],
            [
             0.3,
             "#f1b6da"
            ],
            [
             0.4,
             "#fde0ef"
            ],
            [
             0.5,
             "#f7f7f7"
            ],
            [
             0.6,
             "#e6f5d0"
            ],
            [
             0.7,
             "#b8e186"
            ],
            [
             0.8,
             "#7fbc41"
            ],
            [
             0.9,
             "#4d9221"
            ],
            [
             1,
             "#276419"
            ]
           ],
           "sequential": [
            [
             0,
             "#0d0887"
            ],
            [
             0.1111111111111111,
             "#46039f"
            ],
            [
             0.2222222222222222,
             "#7201a8"
            ],
            [
             0.3333333333333333,
             "#9c179e"
            ],
            [
             0.4444444444444444,
             "#bd3786"
            ],
            [
             0.5555555555555556,
             "#d8576b"
            ],
            [
             0.6666666666666666,
             "#ed7953"
            ],
            [
             0.7777777777777778,
             "#fb9f3a"
            ],
            [
             0.8888888888888888,
             "#fdca26"
            ],
            [
             1,
             "#f0f921"
            ]
           ],
           "sequentialminus": [
            [
             0,
             "#0d0887"
            ],
            [
             0.1111111111111111,
             "#46039f"
            ],
            [
             0.2222222222222222,
             "#7201a8"
            ],
            [
             0.3333333333333333,
             "#9c179e"
            ],
            [
             0.4444444444444444,
             "#bd3786"
            ],
            [
             0.5555555555555556,
             "#d8576b"
            ],
            [
             0.6666666666666666,
             "#ed7953"
            ],
            [
             0.7777777777777778,
             "#fb9f3a"
            ],
            [
             0.8888888888888888,
             "#fdca26"
            ],
            [
             1,
             "#f0f921"
            ]
           ]
          },
          "colorway": [
           "#636efa",
           "#EF553B",
           "#00cc96",
           "#ab63fa",
           "#FFA15A",
           "#19d3f3",
           "#FF6692",
           "#B6E880",
           "#FF97FF",
           "#FECB52"
          ],
          "font": {
           "color": "#2a3f5f"
          },
          "geo": {
           "bgcolor": "white",
           "lakecolor": "white",
           "landcolor": "#E5ECF6",
           "showlakes": true,
           "showland": true,
           "subunitcolor": "white"
          },
          "hoverlabel": {
           "align": "left"
          },
          "hovermode": "closest",
          "mapbox": {
           "style": "light"
          },
          "paper_bgcolor": "white",
          "plot_bgcolor": "#E5ECF6",
          "polar": {
           "angularaxis": {
            "gridcolor": "white",
            "linecolor": "white",
            "ticks": ""
           },
           "bgcolor": "#E5ECF6",
           "radialaxis": {
            "gridcolor": "white",
            "linecolor": "white",
            "ticks": ""
           }
          },
          "scene": {
           "xaxis": {
            "backgroundcolor": "#E5ECF6",
            "gridcolor": "white",
            "gridwidth": 2,
            "linecolor": "white",
            "showbackground": true,
            "ticks": "",
            "zerolinecolor": "white"
           },
           "yaxis": {
            "backgroundcolor": "#E5ECF6",
            "gridcolor": "white",
            "gridwidth": 2,
            "linecolor": "white",
            "showbackground": true,
            "ticks": "",
            "zerolinecolor": "white"
           },
           "zaxis": {
            "backgroundcolor": "#E5ECF6",
            "gridcolor": "white",
            "gridwidth": 2,
            "linecolor": "white",
            "showbackground": true,
            "ticks": "",
            "zerolinecolor": "white"
           }
          },
          "shapedefaults": {
           "line": {
            "color": "#2a3f5f"
           }
          },
          "ternary": {
           "aaxis": {
            "gridcolor": "white",
            "linecolor": "white",
            "ticks": ""
           },
           "baxis": {
            "gridcolor": "white",
            "linecolor": "white",
            "ticks": ""
           },
           "bgcolor": "#E5ECF6",
           "caxis": {
            "gridcolor": "white",
            "linecolor": "white",
            "ticks": ""
           }
          },
          "title": {
           "x": 0.05
          },
          "xaxis": {
           "automargin": true,
           "gridcolor": "white",
           "linecolor": "white",
           "ticks": "",
           "title": {
            "standoff": 15
           },
           "zerolinecolor": "white",
           "zerolinewidth": 2
          },
          "yaxis": {
           "automargin": true,
           "gridcolor": "white",
           "linecolor": "white",
           "ticks": "",
           "title": {
            "standoff": 15
           },
           "zerolinecolor": "white",
           "zerolinewidth": 2
          }
         }
        },
        "width": 960,
        "xaxis": {
         "linecolor": "#7f7f7f",
         "linewidth": 2,
         "showgrid": false,
         "tickfont": {
          "color": "#7f7f7f"
         },
         "ticks": "outside",
         "title": {
          "text": "Year"
         }
        },
        "yaxis": {
         "tickfont": {
          "color": "#7f7f7f"
         }
        }
       }
      }
     },
     "metadata": {},
     "output_type": "display_data"
    }
   ],
   "source": [
    "# Create step non-decreasing step function\n",
    "fig = go.Figure()\n",
    "\n",
    "fares_normalised = normalise_series_to_first_value(tflFares[\"Single_Z1_to_Z4_Oyster_Peak\"][10:]) * 200 - 200\n",
    "stocks_normalised = normalise_series_to_first_value(ftse_yearly_max_prices['HIGH_1'].astype(float)[10:]) * 200 - 200\n",
    "# TRACES\n",
    "fig.add_trace(create_trace(\n",
    "    x=tflFares['year'][10:],\n",
    "    y=fares_normalised, \n",
    "    label=\"Contactless ticket (PAYG)\",\n",
    "    line_shape=\"hv\"\n",
    "))\n",
    "fig.add_trace(create_trace(\n",
    "    x=ftse_yearly_max_prices['year'][10:], \n",
    "    y=stocks_normalised, \n",
    "    label=\"FTSE100 annual highs\",\n",
    "    # line_shape=\"hv\"\n",
    "))\n",
    "\n",
    "# LAYOUT\n",
    "layout = create_layout(title=\"TfL Tube Fares vs the FTSE100<br><sup>Prices are normalised to the same starting point of 1</sup>\")\n",
    "fig.update_layout(layout)\n",
    "\n",
    "fig.show()"
   ]
  },
  {
   "cell_type": "code",
   "execution_count": 10,
   "metadata": {},
   "outputs": [
    {
     "data": {
      "text/plain": [
       "np.int64(11)"
      ]
     },
     "execution_count": 10,
     "metadata": {},
     "output_type": "execute_result"
    }
   ],
   "source": [
    "((fares_normalised - stocks_normalised) > 0).sum()\n",
    "# 11 out of 15 years the tube prices rose above the FTSE100\n",
    "\n",
    "# Reselling your tube tickets would reap in more revenue than investing it in the UK economy\n",
    "#  through a stock ISA. Sadiq, Rachel - wanna chip in?"
   ]
  },
  {
   "cell_type": "markdown",
   "metadata": {},
   "source": [
    "### Plot for Streamlit Dashboard"
   ]
  },
  {
   "cell_type": "code",
   "execution_count": 11,
   "id": "1d525d5b",
   "metadata": {},
   "outputs": [],
   "source": [
    "combined_fares = pd.read_csv(FARE_PRICES_DIR / \"processed\" / \"combined_transport_fares.csv\")\n",
    "combined_stocks = pd.read_csv(STOCK_PRICES_DIR / \"combined_indices.csv\")\n",
    "# Time to plot dynamically. Variables\n",
    "# - Transport modes selected\n",
    "# - Indices selected\n",
    "# - Year range\n",
    "# How to distinguish between transport and stocks? Make transport costs a step function"
   ]
  },
  {
   "cell_type": "code",
   "execution_count": 12,
   "metadata": {},
   "outputs": [
    {
     "name": "stdout",
     "output_type": "stream",
     "text": [
      "['HangSeng', 'FTSE100', 'Nikkei225', 'SnP500', 'DAX']\n",
      "['Bus_and_Coach', 'Rail', 'Single_Z1_to_Z4_Cash', 'Single_Z1_to_Z4_Oyster_Peak', 'Bus_Cash', 'Single_Bus_Oyster', 'Cap_Bus_Tram', 'Travelcard_Z1_to_Z4', 'Cap_Z1_to_Z4_PAYG', 'Travelcard_7_Day_Z1_to_Z4', 'Weekly_Bus_And_Tram_Pass']\n"
     ]
    }
   ],
   "source": [
    "indices_keys = combined_stocks.columns.to_list()\n",
    "indices_keys.remove(\"year\")\n",
    "print(indices_keys)\n",
    "\n",
    "transportation_keys = combined_fares.columns.to_list()\n",
    "transportation_keys.remove(\"year\")\n",
    "print(transportation_keys)"
   ]
  },
  {
   "cell_type": "code",
   "execution_count": 13,
   "id": "3dc63160",
   "metadata": {},
   "outputs": [
    {
     "data": {
      "application/vnd.plotly.v1+json": {
       "config": {
        "plotlyServerURL": "https://plot.ly"
       },
       "data": [
        {
         "line": {
          "dash": "dash"
         },
         "mode": "lines",
         "name": "HangSeng",
         "type": "scatter",
         "x": {
          "bdata": "2gfbB9wH3QfeB98H4AfhB+IH4wfkBw==",
          "dtype": "i2"
         },
         "y": {
          "bdata": "AAAAAAAAWUAPix1I1npYQGhrp0euulZAjRG6U2EfWEA+LK+O5F9ZQE8V8TwCmlxAems4dQlgWEDAEj8sqDZeQAVGpDTsv2BAkwf0pEFLXkA603cgMjBdQA==",
          "dtype": "f8"
         }
        },
        {
         "line": {
          "dash": "dash"
         },
         "mode": "lines",
         "name": "FTSE100",
         "type": "scatter",
         "x": {
          "bdata": "2gfbB9wH3QfeB98H4AfhB+IH4wfkBw==",
          "dtype": "i2"
         },
         "y": {
          "bdata": "AAAAAAAAWUAHvYIznFlZQOqZLHoL5lhArBuzXduLXEBYaxxh76pcQKBaRhuDkl1ACsfrdt2nXUCSpas0iPVfQC1b1WctaGBAbbmo0aMKYEBdpQUQFe1fQA==",
          "dtype": "f8"
         }
        },
        {
         "line": {
          "dash": "dash"
         },
         "mode": "lines",
         "name": "Nikkei225",
         "type": "scatter",
         "x": {
          "bdata": "2gfbB9wH3QfeB98H4AfhB+IH4wfkBw==",
          "dtype": "i2"
         },
         "y": {
          "bdata": "AAAAAAAAWUCGRhEXNN5XQFLShBlI3VZAF74mZ9XhYUBTn3o0qcFjQLNM9htA9WZAuy14ntJ3ZUAc+kDKtZ5pQCxzgpKzyWpAh5jdo5NlakDaqA/ohj5uQA==",
          "dtype": "f8"
         }
        },
        {
         "line": {
          "shape": "hv"
         },
         "mode": "lines+markers",
         "name": "Bus and Coach",
         "type": "scatter",
         "x": {
          "bdata": "2gfbB9wH3QfeB98H4AfhB+IH4wfkBw==",
          "dtype": "i2"
         },
         "y": {
          "bdata": "AAAAAAAAWUDSuwtcI6paQIaA53jHHFxABmPr0xvVXEBpTr/v8FVdQMQmQyWyTV5AkfYiM/d6X0B6H09iSPthQJj8ZpFO1WJAkekWqzpMY0AesX4qCK1kQA==",
          "dtype": "f8"
         }
        },
        {
         "line": {
          "shape": "hv"
         },
         "mode": "lines+markers",
         "name": "Rail",
         "type": "scatter",
         "x": {
          "bdata": "2gfbB9wH3QfeB98H4AfhB+IH4wfkBw==",
          "dtype": "i2"
         },
         "y": {
          "bdata": "AAAAAAAAWUDqS+sc+MdaQFtEkHuYEFxAzzsebIU+XUBybOJNGTleQIOt0K9b215ACv26teXvXkCK8QNcuM1fQBYR5B4mZGBAMCGxz5gNYUDyGsprKG9hQA==",
          "dtype": "f8"
         }
        },
        {
         "line": {
          "shape": "hv"
         },
         "mode": "lines+markers",
         "name": "Single Z1 to Z4 Cash",
         "type": "scatter",
         "x": {
          "bdata": "2gfbB9wH3QfeB98H4AfhB+IH4wfkBw==",
          "dtype": "i2"
         },
         "y": {
          "bdata": "AAAAAAAAWUAAAAAAAEBfQAAAAAAAkGBAAAAAAAAwYUAAAAAAANBhQAAAAAAAIGJAAAAAAABwYkAAAAAAAHBiQAAAAAAAcGJAAAAAAABwYkAAAAAAAHBiQA==",
          "dtype": "f8"
         }
        }
       ],
       "layout": {
        "font": {
         "color": "#31333F",
         "family": "sans-serif",
         "size": 16
        },
        "height": 400,
        "legend": {
         "x": 1,
         "y": 0.5
        },
        "margin": {
         "b": 40,
         "l": 40,
         "r": 20,
         "t": 20
        },
        "paper_bgcolor": "#fdfdf8",
        "plot_bgcolor": "#fdfdf8",
        "showlegend": true,
        "template": {
         "data": {
          "bar": [
           {
            "error_x": {
             "color": "#2a3f5f"
            },
            "error_y": {
             "color": "#2a3f5f"
            },
            "marker": {
             "line": {
              "color": "#E5ECF6",
              "width": 0.5
             },
             "pattern": {
              "fillmode": "overlay",
              "size": 10,
              "solidity": 0.2
             }
            },
            "type": "bar"
           }
          ],
          "barpolar": [
           {
            "marker": {
             "line": {
              "color": "#E5ECF6",
              "width": 0.5
             },
             "pattern": {
              "fillmode": "overlay",
              "size": 10,
              "solidity": 0.2
             }
            },
            "type": "barpolar"
           }
          ],
          "carpet": [
           {
            "aaxis": {
             "endlinecolor": "#2a3f5f",
             "gridcolor": "white",
             "linecolor": "white",
             "minorgridcolor": "white",
             "startlinecolor": "#2a3f5f"
            },
            "baxis": {
             "endlinecolor": "#2a3f5f",
             "gridcolor": "white",
             "linecolor": "white",
             "minorgridcolor": "white",
             "startlinecolor": "#2a3f5f"
            },
            "type": "carpet"
           }
          ],
          "choropleth": [
           {
            "colorbar": {
             "outlinewidth": 0,
             "ticks": ""
            },
            "type": "choropleth"
           }
          ],
          "contour": [
           {
            "colorbar": {
             "outlinewidth": 0,
             "ticks": ""
            },
            "colorscale": [
             [
              0,
              "#0d0887"
             ],
             [
              0.1111111111111111,
              "#46039f"
             ],
             [
              0.2222222222222222,
              "#7201a8"
             ],
             [
              0.3333333333333333,
              "#9c179e"
             ],
             [
              0.4444444444444444,
              "#bd3786"
             ],
             [
              0.5555555555555556,
              "#d8576b"
             ],
             [
              0.6666666666666666,
              "#ed7953"
             ],
             [
              0.7777777777777778,
              "#fb9f3a"
             ],
             [
              0.8888888888888888,
              "#fdca26"
             ],
             [
              1,
              "#f0f921"
             ]
            ],
            "type": "contour"
           }
          ],
          "contourcarpet": [
           {
            "colorbar": {
             "outlinewidth": 0,
             "ticks": ""
            },
            "type": "contourcarpet"
           }
          ],
          "heatmap": [
           {
            "colorbar": {
             "outlinewidth": 0,
             "ticks": ""
            },
            "colorscale": [
             [
              0,
              "#0d0887"
             ],
             [
              0.1111111111111111,
              "#46039f"
             ],
             [
              0.2222222222222222,
              "#7201a8"
             ],
             [
              0.3333333333333333,
              "#9c179e"
             ],
             [
              0.4444444444444444,
              "#bd3786"
             ],
             [
              0.5555555555555556,
              "#d8576b"
             ],
             [
              0.6666666666666666,
              "#ed7953"
             ],
             [
              0.7777777777777778,
              "#fb9f3a"
             ],
             [
              0.8888888888888888,
              "#fdca26"
             ],
             [
              1,
              "#f0f921"
             ]
            ],
            "type": "heatmap"
           }
          ],
          "histogram": [
           {
            "marker": {
             "pattern": {
              "fillmode": "overlay",
              "size": 10,
              "solidity": 0.2
             }
            },
            "type": "histogram"
           }
          ],
          "histogram2d": [
           {
            "colorbar": {
             "outlinewidth": 0,
             "ticks": ""
            },
            "colorscale": [
             [
              0,
              "#0d0887"
             ],
             [
              0.1111111111111111,
              "#46039f"
             ],
             [
              0.2222222222222222,
              "#7201a8"
             ],
             [
              0.3333333333333333,
              "#9c179e"
             ],
             [
              0.4444444444444444,
              "#bd3786"
             ],
             [
              0.5555555555555556,
              "#d8576b"
             ],
             [
              0.6666666666666666,
              "#ed7953"
             ],
             [
              0.7777777777777778,
              "#fb9f3a"
             ],
             [
              0.8888888888888888,
              "#fdca26"
             ],
             [
              1,
              "#f0f921"
             ]
            ],
            "type": "histogram2d"
           }
          ],
          "histogram2dcontour": [
           {
            "colorbar": {
             "outlinewidth": 0,
             "ticks": ""
            },
            "colorscale": [
             [
              0,
              "#0d0887"
             ],
             [
              0.1111111111111111,
              "#46039f"
             ],
             [
              0.2222222222222222,
              "#7201a8"
             ],
             [
              0.3333333333333333,
              "#9c179e"
             ],
             [
              0.4444444444444444,
              "#bd3786"
             ],
             [
              0.5555555555555556,
              "#d8576b"
             ],
             [
              0.6666666666666666,
              "#ed7953"
             ],
             [
              0.7777777777777778,
              "#fb9f3a"
             ],
             [
              0.8888888888888888,
              "#fdca26"
             ],
             [
              1,
              "#f0f921"
             ]
            ],
            "type": "histogram2dcontour"
           }
          ],
          "mesh3d": [
           {
            "colorbar": {
             "outlinewidth": 0,
             "ticks": ""
            },
            "type": "mesh3d"
           }
          ],
          "parcoords": [
           {
            "line": {
             "colorbar": {
              "outlinewidth": 0,
              "ticks": ""
             }
            },
            "type": "parcoords"
           }
          ],
          "pie": [
           {
            "automargin": true,
            "type": "pie"
           }
          ],
          "scatter": [
           {
            "fillpattern": {
             "fillmode": "overlay",
             "size": 10,
             "solidity": 0.2
            },
            "type": "scatter"
           }
          ],
          "scatter3d": [
           {
            "line": {
             "colorbar": {
              "outlinewidth": 0,
              "ticks": ""
             }
            },
            "marker": {
             "colorbar": {
              "outlinewidth": 0,
              "ticks": ""
             }
            },
            "type": "scatter3d"
           }
          ],
          "scattercarpet": [
           {
            "marker": {
             "colorbar": {
              "outlinewidth": 0,
              "ticks": ""
             }
            },
            "type": "scattercarpet"
           }
          ],
          "scattergeo": [
           {
            "marker": {
             "colorbar": {
              "outlinewidth": 0,
              "ticks": ""
             }
            },
            "type": "scattergeo"
           }
          ],
          "scattergl": [
           {
            "marker": {
             "colorbar": {
              "outlinewidth": 0,
              "ticks": ""
             }
            },
            "type": "scattergl"
           }
          ],
          "scattermap": [
           {
            "marker": {
             "colorbar": {
              "outlinewidth": 0,
              "ticks": ""
             }
            },
            "type": "scattermap"
           }
          ],
          "scattermapbox": [
           {
            "marker": {
             "colorbar": {
              "outlinewidth": 0,
              "ticks": ""
             }
            },
            "type": "scattermapbox"
           }
          ],
          "scatterpolar": [
           {
            "marker": {
             "colorbar": {
              "outlinewidth": 0,
              "ticks": ""
             }
            },
            "type": "scatterpolar"
           }
          ],
          "scatterpolargl": [
           {
            "marker": {
             "colorbar": {
              "outlinewidth": 0,
              "ticks": ""
             }
            },
            "type": "scatterpolargl"
           }
          ],
          "scatterternary": [
           {
            "marker": {
             "colorbar": {
              "outlinewidth": 0,
              "ticks": ""
             }
            },
            "type": "scatterternary"
           }
          ],
          "surface": [
           {
            "colorbar": {
             "outlinewidth": 0,
             "ticks": ""
            },
            "colorscale": [
             [
              0,
              "#0d0887"
             ],
             [
              0.1111111111111111,
              "#46039f"
             ],
             [
              0.2222222222222222,
              "#7201a8"
             ],
             [
              0.3333333333333333,
              "#9c179e"
             ],
             [
              0.4444444444444444,
              "#bd3786"
             ],
             [
              0.5555555555555556,
              "#d8576b"
             ],
             [
              0.6666666666666666,
              "#ed7953"
             ],
             [
              0.7777777777777778,
              "#fb9f3a"
             ],
             [
              0.8888888888888888,
              "#fdca26"
             ],
             [
              1,
              "#f0f921"
             ]
            ],
            "type": "surface"
           }
          ],
          "table": [
           {
            "cells": {
             "fill": {
              "color": "#EBF0F8"
             },
             "line": {
              "color": "white"
             }
            },
            "header": {
             "fill": {
              "color": "#C8D4E3"
             },
             "line": {
              "color": "white"
             }
            },
            "type": "table"
           }
          ]
         },
         "layout": {
          "annotationdefaults": {
           "arrowcolor": "#2a3f5f",
           "arrowhead": 0,
           "arrowwidth": 1
          },
          "autotypenumbers": "strict",
          "coloraxis": {
           "colorbar": {
            "outlinewidth": 0,
            "ticks": ""
           }
          },
          "colorscale": {
           "diverging": [
            [
             0,
             "#8e0152"
            ],
            [
             0.1,
             "#c51b7d"
            ],
            [
             0.2,
             "#de77ae"
            ],
            [
             0.3,
             "#f1b6da"
            ],
            [
             0.4,
             "#fde0ef"
            ],
            [
             0.5,
             "#f7f7f7"
            ],
            [
             0.6,
             "#e6f5d0"
            ],
            [
             0.7,
             "#b8e186"
            ],
            [
             0.8,
             "#7fbc41"
            ],
            [
             0.9,
             "#4d9221"
            ],
            [
             1,
             "#276419"
            ]
           ],
           "sequential": [
            [
             0,
             "#0d0887"
            ],
            [
             0.1111111111111111,
             "#46039f"
            ],
            [
             0.2222222222222222,
             "#7201a8"
            ],
            [
             0.3333333333333333,
             "#9c179e"
            ],
            [
             0.4444444444444444,
             "#bd3786"
            ],
            [
             0.5555555555555556,
             "#d8576b"
            ],
            [
             0.6666666666666666,
             "#ed7953"
            ],
            [
             0.7777777777777778,
             "#fb9f3a"
            ],
            [
             0.8888888888888888,
             "#fdca26"
            ],
            [
             1,
             "#f0f921"
            ]
           ],
           "sequentialminus": [
            [
             0,
             "#0d0887"
            ],
            [
             0.1111111111111111,
             "#46039f"
            ],
            [
             0.2222222222222222,
             "#7201a8"
            ],
            [
             0.3333333333333333,
             "#9c179e"
            ],
            [
             0.4444444444444444,
             "#bd3786"
            ],
            [
             0.5555555555555556,
             "#d8576b"
            ],
            [
             0.6666666666666666,
             "#ed7953"
            ],
            [
             0.7777777777777778,
             "#fb9f3a"
            ],
            [
             0.8888888888888888,
             "#fdca26"
            ],
            [
             1,
             "#f0f921"
            ]
           ]
          },
          "colorway": [
           "#636efa",
           "#EF553B",
           "#00cc96",
           "#ab63fa",
           "#FFA15A",
           "#19d3f3",
           "#FF6692",
           "#B6E880",
           "#FF97FF",
           "#FECB52"
          ],
          "font": {
           "color": "#2a3f5f"
          },
          "geo": {
           "bgcolor": "white",
           "lakecolor": "white",
           "landcolor": "#E5ECF6",
           "showlakes": true,
           "showland": true,
           "subunitcolor": "white"
          },
          "hoverlabel": {
           "align": "left"
          },
          "hovermode": "closest",
          "mapbox": {
           "style": "light"
          },
          "paper_bgcolor": "white",
          "plot_bgcolor": "#E5ECF6",
          "polar": {
           "angularaxis": {
            "gridcolor": "white",
            "linecolor": "white",
            "ticks": ""
           },
           "bgcolor": "#E5ECF6",
           "radialaxis": {
            "gridcolor": "white",
            "linecolor": "white",
            "ticks": ""
           }
          },
          "scene": {
           "xaxis": {
            "backgroundcolor": "#E5ECF6",
            "gridcolor": "white",
            "gridwidth": 2,
            "linecolor": "white",
            "showbackground": true,
            "ticks": "",
            "zerolinecolor": "white"
           },
           "yaxis": {
            "backgroundcolor": "#E5ECF6",
            "gridcolor": "white",
            "gridwidth": 2,
            "linecolor": "white",
            "showbackground": true,
            "ticks": "",
            "zerolinecolor": "white"
           },
           "zaxis": {
            "backgroundcolor": "#E5ECF6",
            "gridcolor": "white",
            "gridwidth": 2,
            "linecolor": "white",
            "showbackground": true,
            "ticks": "",
            "zerolinecolor": "white"
           }
          },
          "shapedefaults": {
           "line": {
            "color": "#2a3f5f"
           }
          },
          "ternary": {
           "aaxis": {
            "gridcolor": "white",
            "linecolor": "white",
            "ticks": ""
           },
           "baxis": {
            "gridcolor": "white",
            "linecolor": "white",
            "ticks": ""
           },
           "bgcolor": "#E5ECF6",
           "caxis": {
            "gridcolor": "white",
            "linecolor": "white",
            "ticks": ""
           }
          },
          "title": {
           "x": 0.05
          },
          "xaxis": {
           "automargin": true,
           "gridcolor": "white",
           "linecolor": "white",
           "ticks": "",
           "title": {
            "standoff": 15
           },
           "zerolinecolor": "white",
           "zerolinewidth": 2
          },
          "yaxis": {
           "automargin": true,
           "gridcolor": "white",
           "linecolor": "white",
           "ticks": "",
           "title": {
            "standoff": 15
           },
           "zerolinecolor": "white",
           "zerolinewidth": 2
          }
         }
        },
        "width": 960,
        "xaxis": {
         "linecolor": "#7f7f7f",
         "linewidth": 2,
         "rangeselector": {
          "font": {
           "color": "#000000"
          }
         },
         "showgrid": false,
         "tickfont": {
          "color": "#7f7f7f"
         },
         "ticks": "outside",
         "title": {
          "text": "Year"
         }
        },
        "yaxis": {
         "tickfont": {
          "color": "#7f7f7f"
         },
         "title": {
          "text": "Relative price"
         }
        }
       }
      }
     },
     "metadata": {},
     "output_type": "display_data"
    }
   ],
   "source": [
    "selected_stocks = indices_keys[:3]\n",
    "selected_fares = transportation_keys[:3]\n",
    "comparison_plot(combined_stocks, combined_fares, selected_fares, selected_stocks, 2010, 2020)"
   ]
  },
  {
   "cell_type": "markdown",
   "id": "ecf98a9e",
   "metadata": {},
   "source": [
    "# Ideas, thoughts"
   ]
  },
  {
   "cell_type": "code",
   "execution_count": 14,
   "metadata": {},
   "outputs": [],
   "source": [
    "# Create plotly/streamlit chart where one can select the following from a dropdown\n",
    "# - Stock Index -> Get S&P 500\n",
    "# Tranportation mode -> we have average rail and bus/coach fares too from \n",
    "\n",
    "# Also need a dropdown for selecting years (2000-2025) and deal with missing values pls\n",
    "# Though fares go back to 1987, and so do most indeces -> Did a search in perplexity\n",
    "\n",
    "# Sources\n",
    "# - Bus & coach: https://www.ons.gov.uk/economy/inflationandpriceindices/timeseries/docx/mm23\n",
    "# - Train: https://www.ons.gov.uk/economy/inflationandpriceindices/timeseries/docw/mm23\n",
    "# - FTSE100: downloaded from WSJ Markets\n",
    "# - S&P 500: downloaded from WSJ Markets\n",
    "# - DAX: downloaded from WSJ Markets\n",
    "# - Nikkei 225: downloaded from WSJ Markets\n",
    "# - Hang Seng: downloaded from WSJ Markets"
   ]
  },
  {
   "cell_type": "code",
   "execution_count": 15,
   "id": "1cc0c1ea",
   "metadata": {},
   "outputs": [],
   "source": [
    "# Could factor in inflation using CPIH\n",
    "# CPIH stands for the Consumer Prices Index including owner occupiers' housing costs, which is the UK's leading measure of inflation\n",
    "# Source: https://www.ons.gov.uk/economy/inflationandpriceindices/timeseries/l55o/mm23\n",
    "# cpih = pd.read_csv(DATA_DIR / \"CPIH-annual-rate-1989-2024-by-year.csv\", skiprows=7)\n",
    "# n_years = 2024 - 1989 + 1\n",
    "# cpih.iloc[:n_years].tail()"
   ]
  },
  {
   "cell_type": "code",
   "execution_count": 16,
   "id": "4f3e2f61",
   "metadata": {},
   "outputs": [],
   "source": [
    "# Defo need wages + inflation tracker on the plot\n",
    "# Average Weekly Earnings (AWE) comparison: 2000 - £305, 2012 - £457, 2025 - £711 -> 49.83%, 133.11%\n",
    "# https://www.ons.gov.uk/employmentandlabourmarket/peopleinwork/earningsandworkinghours/timeseries/kab9/emp\n",
    "# Median weekly earnings for full-time employees: 2012 - £506, 2025 - £728\n",
    "# https://www.ons.gov.uk/employmentandlabourmarket/peopleinwork/earningsandworkinghours/bulletins/annualsurveyofhoursandearnings/2024"
   ]
  },
  {
   "cell_type": "markdown",
   "id": "d55053da",
   "metadata": {},
   "source": [
    "# Code Cemetary"
   ]
  },
  {
   "cell_type": "code",
   "execution_count": 17,
   "id": "0aa6abcd",
   "metadata": {},
   "outputs": [],
   "source": [
    "# fig = go.Figure()\n",
    "# # TRACES\n",
    "# fig.add_trace(create_trace(x=ftse_yearly_max_prices['year'][10:], y=ftse_yearly_max_prices['HIGH_1'].astype(float)[10:], label=\"Highest annual price\"))\n",
    "# fig.add_trace(create_trace(x=ftse_yearly_min_prices['year'][10:], y=ftse_yearly_min_prices['LOW_1'].astype(float)[10:], label=\"Lowest annual price\"))\n",
    "# # LAYOUT\n",
    "# layout = create_layout(title=\"FTSE100<br><sup>UK's stock market's index innit</sup>\", type=\"linear\")\n",
    "# fig.update_layout(layout)\n",
    "\n",
    "# fig.show()"
   ]
  },
  {
   "cell_type": "code",
   "execution_count": 18,
   "id": "1b2b9b73",
   "metadata": {},
   "outputs": [],
   "source": [
    "# fig = go.Figure()\n",
    "# # TRACES\n",
    "# fig.add_trace(create_trace(x=ftse_yearly_max_prices['year'][10:], y=normalise_single_series_to_100(ftse_yearly_max_prices['LOW_1'].astype(float)[10:]), label=\"Lowest annual price\"))\n",
    "# # LAYOUT\n",
    "# layout = create_layout(title=\"Normalised FTSE100<br><sup>UK's stock market's index innit</sup>\", type=\"linear\")\n",
    "# fig.update_layout(layout)\n",
    "# # fig.update_xaxes(range=[2010,2025])\n",
    "# fig.show()"
   ]
  }
 ],
 "metadata": {
  "kernelspec": {
   "display_name": "tfl-price-visualisations (3.12.11)",
   "language": "python",
   "name": "python3"
  },
  "language_info": {
   "codemirror_mode": {
    "name": "ipython",
    "version": 3
   },
   "file_extension": ".py",
   "mimetype": "text/x-python",
   "name": "python",
   "nbconvert_exporter": "python",
   "pygments_lexer": "ipython3",
   "version": "3.12.11"
  }
 },
 "nbformat": 4,
 "nbformat_minor": 5
}
