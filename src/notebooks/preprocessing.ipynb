{
 "cells": [
  {
   "cell_type": "code",
   "execution_count": 1,
   "metadata": {},
   "outputs": [
    {
     "data": {
      "text/plain": [
       "PosixPath('/Users/avekassy/Desktop/codingProjects/visualisations/tfl-price-visualisations/data/fares')"
      ]
     },
     "execution_count": 1,
     "metadata": {},
     "output_type": "execute_result"
    }
   ],
   "source": [
    "import pandas as pd\n",
    "import os\n",
    "from pathlib import Path\n",
    "\n",
    "DATA_DIR = Path(os.path.abspath('')).parents[1] / \"data\"\n",
    "STOCK_PRICES_DIR_RAW = DATA_DIR / \"stocks\" / \"raw\"\n",
    "TRANSPORT_FARES_DIR = DATA_DIR / \"fares\"\n",
    "TRANSPORT_FARES_DIR"
   ]
  },
  {
   "cell_type": "markdown",
   "metadata": {},
   "source": [
    "# Transport Fares"
   ]
  },
  {
   "cell_type": "code",
   "execution_count": 10,
   "metadata": {},
   "outputs": [],
   "source": [
    "bus_and_coach_fares = pd.read_csv(TRANSPORT_FARES_DIR / \"raw\" / \"bus_and_coach_fares.csv\", skiprows=7)\n",
    "rail_fares = pd.read_csv(TRANSPORT_FARES_DIR / \"raw\" / \"rail_fares.csv\", skiprows=7)\n",
    "tfl_fares = pd.read_csv(TRANSPORT_FARES_DIR / \"raw\" / \"TfLHistoricalFares2000to2025.csv\")"
   ]
  },
  {
   "cell_type": "code",
   "execution_count": 11,
   "metadata": {},
   "outputs": [
    {
     "data": {
      "application/vnd.microsoft.datawrangler.viewer.v0+json": {
       "columns": [
        {
         "name": "index",
         "rawType": "int64",
         "type": "integer"
        },
        {
         "name": "Year",
         "rawType": "object",
         "type": "string"
        },
        {
         "name": "relative_price",
         "rawType": "float64",
         "type": "float"
        }
       ],
       "ref": "1725a889-5ed0-4e58-b994-8bc2afaf4851",
       "rows": [
        [
         "0",
         "1987",
         "100.6"
        ],
        [
         "1",
         "1988",
         "107.6"
        ],
        [
         "2",
         "1989",
         "117.4"
        ],
        [
         "3",
         "1990",
         "127.7"
        ],
        [
         "4",
         "1991",
         "141.0"
        ],
        [
         "5",
         "1992",
         "151.3"
        ],
        [
         "6",
         "1993",
         "161.9"
        ],
        [
         "7",
         "1994",
         "169.1"
        ],
        [
         "8",
         "1995",
         "176.6"
        ],
        [
         "9",
         "1996",
         "183.2"
        ],
        [
         "10",
         "1997",
         "187.5"
        ],
        [
         "11",
         "1998",
         "195.2"
        ],
        [
         "12",
         "1999",
         "202.3"
        ],
        [
         "13",
         "2000",
         "205.8"
        ],
        [
         "14",
         "2001",
         "213.7"
        ],
        [
         "15",
         "2002",
         "218.6"
        ],
        [
         "16",
         "2003",
         "222.3"
        ],
        [
         "17",
         "2004",
         "230.8"
        ],
        [
         "18",
         "2005",
         "240.1"
        ],
        [
         "19",
         "2006",
         "249.7"
        ],
        [
         "20",
         "2007",
         "262.5"
        ],
        [
         "21",
         "2008",
         "273.9"
        ],
        [
         "22",
         "2009",
         "288.5"
        ],
        [
         "23",
         "2010",
         "311.6"
        ],
        [
         "24",
         "2011",
         "333.8"
        ],
        [
         "25",
         "2012",
         "349.8"
        ],
        [
         "26",
         "2013",
         "364.5"
        ],
        [
         "27",
         "2014",
         "376.7"
        ],
        [
         "28",
         "2015",
         "384.6"
        ],
        [
         "29",
         "2016",
         "385.6"
        ],
        [
         "30",
         "2017",
         "396.4"
        ],
        [
         "31",
         "2018",
         "408.6"
        ],
        [
         "32",
         "2019",
         "425.1"
        ],
        [
         "33",
         "2020",
         "434.6"
        ],
        [
         "34",
         "2021",
         "446.4"
        ],
        [
         "35",
         "2022",
         "471.0"
        ],
        [
         "36",
         "2023",
         "494.0"
        ],
        [
         "37",
         "2024",
         "512.8"
        ],
        [
         "38",
         "1987 Q1",
         "100.0"
        ],
        [
         "39",
         "1987 Q2",
         "100.1"
        ],
        [
         "40",
         "1987 Q3",
         "101.1"
        ],
        [
         "41",
         "1987 Q4",
         "101.1"
        ],
        [
         "42",
         "1988 Q1",
         "107.1"
        ],
        [
         "43",
         "1988 Q2",
         "107.6"
        ],
        [
         "44",
         "1988 Q3",
         "107.8"
        ],
        [
         "45",
         "1988 Q4",
         "107.8"
        ],
        [
         "46",
         "1989 Q1",
         "117.4"
        ],
        [
         "47",
         "1989 Q2",
         "117.4"
        ],
        [
         "48",
         "1989 Q3",
         "117.4"
        ],
        [
         "49",
         "1989 Q4",
         "117.4"
        ]
       ],
       "shape": {
        "columns": 2,
        "rows": 647
       }
      },
      "text/html": [
       "<div>\n",
       "<style scoped>\n",
       "    .dataframe tbody tr th:only-of-type {\n",
       "        vertical-align: middle;\n",
       "    }\n",
       "\n",
       "    .dataframe tbody tr th {\n",
       "        vertical-align: top;\n",
       "    }\n",
       "\n",
       "    .dataframe thead th {\n",
       "        text-align: right;\n",
       "    }\n",
       "</style>\n",
       "<table border=\"1\" class=\"dataframe\">\n",
       "  <thead>\n",
       "    <tr style=\"text-align: right;\">\n",
       "      <th></th>\n",
       "      <th>Year</th>\n",
       "      <th>relative_price</th>\n",
       "    </tr>\n",
       "  </thead>\n",
       "  <tbody>\n",
       "    <tr>\n",
       "      <th>0</th>\n",
       "      <td>1987</td>\n",
       "      <td>100.6</td>\n",
       "    </tr>\n",
       "    <tr>\n",
       "      <th>1</th>\n",
       "      <td>1988</td>\n",
       "      <td>107.6</td>\n",
       "    </tr>\n",
       "    <tr>\n",
       "      <th>2</th>\n",
       "      <td>1989</td>\n",
       "      <td>117.4</td>\n",
       "    </tr>\n",
       "    <tr>\n",
       "      <th>3</th>\n",
       "      <td>1990</td>\n",
       "      <td>127.7</td>\n",
       "    </tr>\n",
       "    <tr>\n",
       "      <th>4</th>\n",
       "      <td>1991</td>\n",
       "      <td>141.0</td>\n",
       "    </tr>\n",
       "    <tr>\n",
       "      <th>...</th>\n",
       "      <td>...</td>\n",
       "      <td>...</td>\n",
       "    </tr>\n",
       "    <tr>\n",
       "      <th>642</th>\n",
       "      <td>2024 SEP</td>\n",
       "      <td>515.0</td>\n",
       "    </tr>\n",
       "    <tr>\n",
       "      <th>643</th>\n",
       "      <td>2024 OCT</td>\n",
       "      <td>523.4</td>\n",
       "    </tr>\n",
       "    <tr>\n",
       "      <th>644</th>\n",
       "      <td>2024 NOV</td>\n",
       "      <td>519.5</td>\n",
       "    </tr>\n",
       "    <tr>\n",
       "      <th>645</th>\n",
       "      <td>2024 DEC</td>\n",
       "      <td>519.6</td>\n",
       "    </tr>\n",
       "    <tr>\n",
       "      <th>646</th>\n",
       "      <td>2025 JAN</td>\n",
       "      <td>512.7</td>\n",
       "    </tr>\n",
       "  </tbody>\n",
       "</table>\n",
       "<p>647 rows × 2 columns</p>\n",
       "</div>"
      ],
      "text/plain": [
       "         Year  relative_price\n",
       "0        1987           100.6\n",
       "1        1988           107.6\n",
       "2        1989           117.4\n",
       "3        1990           127.7\n",
       "4        1991           141.0\n",
       "..        ...             ...\n",
       "642  2024 SEP           515.0\n",
       "643  2024 OCT           523.4\n",
       "644  2024 NOV           519.5\n",
       "645  2024 DEC           519.6\n",
       "646  2025 JAN           512.7\n",
       "\n",
       "[647 rows x 2 columns]"
      ]
     },
     "execution_count": 11,
     "metadata": {},
     "output_type": "execute_result"
    }
   ],
   "source": [
    "rail_fares"
   ]
  },
  {
   "cell_type": "markdown",
   "metadata": {},
   "source": [
    "# Stock Indeces"
   ]
  },
  {
   "cell_type": "code",
   "execution_count": 45,
   "metadata": {},
   "outputs": [],
   "source": [
    "def preprocess_stock_prices_dataset(fpath: Path) -> None:\n",
    "    df = pd.read_csv(fpath)\n",
    "    df[\"Date\"] = pd.to_datetime(df[\"Date\"])\n",
    "    df[\"year\"] = df.Date.dt.year\n",
    "\n",
    "    df_processed = df.groupby(\"year\").max().sort_values(\"year\")\n",
    "    df_processed.columns = [s.strip().lower() for s in df_processed.columns]\n",
    "\n",
    "    if (\"year\" not in df_processed.columns):\n",
    "        df_processed = df_processed.reset_index(drop=False)\n",
    "\n",
    "    # df_processed.to_csv(fname[:-4] + \"_processed.csv\", index=False)\n",
    "    new_fname =  fpath.name[:-4] + \"_processed.csv\"\n",
    "    df_processed.to_csv(fpath.parents[1] / \"processed\" / new_fname, index=False)"
   ]
  },
  {
   "cell_type": "code",
   "execution_count": 46,
   "metadata": {},
   "outputs": [
    {
     "name": "stdout",
     "output_type": "stream",
     "text": [
      "/Users/avekassy/Desktop/codingProjects/visualisations/tfl-price-visualisations/data/stocks/raw HangSeng_1985to2025.csv\n",
      "/Users/avekassy/Desktop/codingProjects/visualisations/tfl-price-visualisations/data/stocks/raw FTSE100_1985to2025.csv\n"
     ]
    },
    {
     "name": "stderr",
     "output_type": "stream",
     "text": [
      "/var/folders/1p/qx30w4js39sbtnrknydp18zc0000gn/T/ipykernel_57265/1996819000.py:3: UserWarning: Could not infer format, so each element will be parsed individually, falling back to `dateutil`. To ensure parsing is consistent and as-expected, please specify a format.\n",
      "  df[\"Date\"] = pd.to_datetime(df[\"Date\"])\n",
      "/var/folders/1p/qx30w4js39sbtnrknydp18zc0000gn/T/ipykernel_57265/1996819000.py:3: UserWarning: Could not infer format, so each element will be parsed individually, falling back to `dateutil`. To ensure parsing is consistent and as-expected, please specify a format.\n",
      "  df[\"Date\"] = pd.to_datetime(df[\"Date\"])\n"
     ]
    },
    {
     "name": "stdout",
     "output_type": "stream",
     "text": [
      "/Users/avekassy/Desktop/codingProjects/visualisations/tfl-price-visualisations/data/stocks/raw Nikkei225_1980to2025.csv\n",
      "/Users/avekassy/Desktop/codingProjects/visualisations/tfl-price-visualisations/data/stocks/raw SnP500_1980to2025.csv\n"
     ]
    },
    {
     "name": "stderr",
     "output_type": "stream",
     "text": [
      "/var/folders/1p/qx30w4js39sbtnrknydp18zc0000gn/T/ipykernel_57265/1996819000.py:3: UserWarning: Could not infer format, so each element will be parsed individually, falling back to `dateutil`. To ensure parsing is consistent and as-expected, please specify a format.\n",
      "  df[\"Date\"] = pd.to_datetime(df[\"Date\"])\n",
      "/var/folders/1p/qx30w4js39sbtnrknydp18zc0000gn/T/ipykernel_57265/1996819000.py:3: UserWarning: Could not infer format, so each element will be parsed individually, falling back to `dateutil`. To ensure parsing is consistent and as-expected, please specify a format.\n",
      "  df[\"Date\"] = pd.to_datetime(df[\"Date\"])\n"
     ]
    },
    {
     "name": "stdout",
     "output_type": "stream",
     "text": [
      "/Users/avekassy/Desktop/codingProjects/visualisations/tfl-price-visualisations/data/stocks/raw DAX_1987to2025.csv\n"
     ]
    },
    {
     "name": "stderr",
     "output_type": "stream",
     "text": [
      "/var/folders/1p/qx30w4js39sbtnrknydp18zc0000gn/T/ipykernel_57265/1996819000.py:3: UserWarning: Could not infer format, so each element will be parsed individually, falling back to `dateutil`. To ensure parsing is consistent and as-expected, please specify a format.\n",
      "  df[\"Date\"] = pd.to_datetime(df[\"Date\"])\n"
     ]
    }
   ],
   "source": [
    "for fpath in STOCK_PRICES_DIR_RAW.iterdir():\n",
    "    if (\"csv\" in str(fpath)):\n",
    "        print(fpath.parent, fpath.name)\n",
    "        preprocess_stock_prices_dataset(fpath)"
   ]
  },
  {
   "cell_type": "code",
   "execution_count": null,
   "metadata": {},
   "outputs": [
    {
     "name": "stderr",
     "output_type": "stream",
     "text": [
      "/var/folders/1p/qx30w4js39sbtnrknydp18zc0000gn/T/ipykernel_57265/1726749124.py:2: UserWarning: Could not infer format, so each element will be parsed individually, falling back to `dateutil`. To ensure parsing is consistent and as-expected, please specify a format.\n",
      "  snp[\"Date\"] = pd.to_datetime(snp[\"Date\"])\n"
     ]
    },
    {
     "data": {
      "application/vnd.microsoft.datawrangler.viewer.v0+json": {
       "columns": [
        {
         "name": "index",
         "rawType": "int64",
         "type": "integer"
        },
        {
         "name": "Date",
         "rawType": "datetime64[ns]",
         "type": "datetime"
        },
        {
         "name": " Open",
         "rawType": "float64",
         "type": "float"
        },
        {
         "name": " High",
         "rawType": "float64",
         "type": "float"
        },
        {
         "name": " Low",
         "rawType": "float64",
         "type": "float"
        },
        {
         "name": " Close",
         "rawType": "float64",
         "type": "float"
        },
        {
         "name": "year",
         "rawType": "int32",
         "type": "integer"
        }
       ],
       "ref": "4ca763dd-f54a-4b3e-8336-661744bded80",
       "rows": [
        [
         "0",
         "2025-09-05 00:00:00",
         "6529.08",
         "6532.65",
         "6443.98",
         "6481.5",
         "2025"
        ],
        [
         "1",
         "2025-09-04 00:00:00",
         "6456.6",
         "6502.54",
         "6445.98",
         "6502.08",
         "2025"
        ],
        [
         "2",
         "2025-09-03 00:00:00",
         "6445.82",
         "6453.67",
         "6416.17",
         "6448.26",
         "2025"
        ],
        [
         "3",
         "2025-09-02 00:00:00",
         "6401.51",
         "6416.54",
         "6360.58",
         "6415.54",
         "2025"
        ],
        [
         "4",
         "2025-08-29 00:00:00",
         "6489.28",
         "6491.76",
         "6444.57",
         "6460.26",
         "2025"
        ]
       ],
       "shape": {
        "columns": 6,
        "rows": 5
       }
      },
      "text/html": [
       "<div>\n",
       "<style scoped>\n",
       "    .dataframe tbody tr th:only-of-type {\n",
       "        vertical-align: middle;\n",
       "    }\n",
       "\n",
       "    .dataframe tbody tr th {\n",
       "        vertical-align: top;\n",
       "    }\n",
       "\n",
       "    .dataframe thead th {\n",
       "        text-align: right;\n",
       "    }\n",
       "</style>\n",
       "<table border=\"1\" class=\"dataframe\">\n",
       "  <thead>\n",
       "    <tr style=\"text-align: right;\">\n",
       "      <th></th>\n",
       "      <th>Date</th>\n",
       "      <th>Open</th>\n",
       "      <th>High</th>\n",
       "      <th>Low</th>\n",
       "      <th>Close</th>\n",
       "      <th>year</th>\n",
       "    </tr>\n",
       "  </thead>\n",
       "  <tbody>\n",
       "    <tr>\n",
       "      <th>0</th>\n",
       "      <td>2025-09-05</td>\n",
       "      <td>6529.08</td>\n",
       "      <td>6532.65</td>\n",
       "      <td>6443.98</td>\n",
       "      <td>6481.50</td>\n",
       "      <td>2025</td>\n",
       "    </tr>\n",
       "    <tr>\n",
       "      <th>1</th>\n",
       "      <td>2025-09-04</td>\n",
       "      <td>6456.60</td>\n",
       "      <td>6502.54</td>\n",
       "      <td>6445.98</td>\n",
       "      <td>6502.08</td>\n",
       "      <td>2025</td>\n",
       "    </tr>\n",
       "    <tr>\n",
       "      <th>2</th>\n",
       "      <td>2025-09-03</td>\n",
       "      <td>6445.82</td>\n",
       "      <td>6453.67</td>\n",
       "      <td>6416.17</td>\n",
       "      <td>6448.26</td>\n",
       "      <td>2025</td>\n",
       "    </tr>\n",
       "    <tr>\n",
       "      <th>3</th>\n",
       "      <td>2025-09-02</td>\n",
       "      <td>6401.51</td>\n",
       "      <td>6416.54</td>\n",
       "      <td>6360.58</td>\n",
       "      <td>6415.54</td>\n",
       "      <td>2025</td>\n",
       "    </tr>\n",
       "    <tr>\n",
       "      <th>4</th>\n",
       "      <td>2025-08-29</td>\n",
       "      <td>6489.28</td>\n",
       "      <td>6491.76</td>\n",
       "      <td>6444.57</td>\n",
       "      <td>6460.26</td>\n",
       "      <td>2025</td>\n",
       "    </tr>\n",
       "  </tbody>\n",
       "</table>\n",
       "</div>"
      ],
      "text/plain": [
       "        Date     Open     High      Low    Close  year\n",
       "0 2025-09-05  6529.08  6532.65  6443.98  6481.50  2025\n",
       "1 2025-09-04  6456.60  6502.54  6445.98  6502.08  2025\n",
       "2 2025-09-03  6445.82  6453.67  6416.17  6448.26  2025\n",
       "3 2025-09-02  6401.51  6416.54  6360.58  6415.54  2025\n",
       "4 2025-08-29  6489.28  6491.76  6444.57  6460.26  2025"
      ]
     },
     "execution_count": 2,
     "metadata": {},
     "output_type": "execute_result"
    }
   ],
   "source": [
    "snp = pd.read_csv(STOCK_PRICES_DIR_RAW / \"SnP500_1980to2025.csv\")\n",
    "snp[\"Date\"] = pd.to_datetime(snp[\"Date\"])\n",
    "snp[\"year\"] = snp.Date.dt.year\n",
    "snp.head()"
   ]
  },
  {
   "cell_type": "code",
   "execution_count": null,
   "metadata": {},
   "outputs": [],
   "source": [
    "snp_processed = snp.groupby(\"year\").max().sort_values(\"year\")\n",
    "snp_processed.columns = [s.strip().lower() for s in snp_processed.columns]"
   ]
  },
  {
   "cell_type": "code",
   "execution_count": 11,
   "metadata": {},
   "outputs": [
    {
     "data": {
      "application/vnd.microsoft.datawrangler.viewer.v0+json": {
       "columns": [
        {
         "name": "index",
         "rawType": "int64",
         "type": "integer"
        },
        {
         "name": "year",
         "rawType": "int32",
         "type": "integer"
        },
        {
         "name": "date",
         "rawType": "datetime64[ns]",
         "type": "datetime"
        },
        {
         "name": "open",
         "rawType": "float64",
         "type": "float"
        },
        {
         "name": "high",
         "rawType": "float64",
         "type": "float"
        },
        {
         "name": "low",
         "rawType": "float64",
         "type": "float"
        },
        {
         "name": "close",
         "rawType": "float64",
         "type": "float"
        }
       ],
       "ref": "6b118eae-5308-4a95-bf2b-613c0bff59e1",
       "rows": [
        [
         "0",
         "1980",
         "1980-12-31 00:00:00",
         "140.52",
         "141.96",
         "139.0",
         "140.52"
        ],
        [
         "1",
         "1981",
         "1981-12-31 00:00:00",
         "138.12",
         "140.32",
         "135.86",
         "138.12"
        ],
        [
         "2",
         "1982",
         "1982-12-31 00:00:00",
         "143.02",
         "144.65",
         "143.11",
         "143.02"
        ],
        [
         "3",
         "1983",
         "1983-12-30 00:00:00",
         "172.65",
         "173.1",
         "169.65",
         "172.65"
        ],
        [
         "4",
         "1984",
         "1984-12-31 00:00:00",
         "170.41",
         "170.41",
         "168.66",
         "170.41"
        ],
        [
         "5",
         "1985",
         "1985-12-31 00:00:00",
         "212.02",
         "213.02",
         "210.78",
         "212.02"
        ],
        [
         "6",
         "1986",
         "1986-12-31 00:00:00",
         "254.0",
         "254.85",
         "253.35",
         "254.0"
        ],
        [
         "7",
         "1987",
         "1987-12-31 00:00:00",
         "336.77",
         "337.89",
         "334.46",
         "336.77"
        ],
        [
         "8",
         "1988",
         "1988-12-30 00:00:00",
         "283.66",
         "283.95",
         "282.28",
         "283.66"
        ],
        [
         "9",
         "1989",
         "1989-12-29 00:00:00",
         "359.8",
         "360.44",
         "358.11",
         "359.8"
        ],
        [
         "10",
         "1990",
         "1990-12-31 00:00:00",
         "368.95",
         "369.78",
         "367.3",
         "368.95"
        ],
        [
         "11",
         "1991",
         "1991-12-31 00:00:00",
         "417.09",
         "418.32",
         "412.73",
         "417.09"
        ],
        [
         "12",
         "1992",
         "1992-12-31 00:00:00",
         "441.28",
         "442.65",
         "439.65",
         "441.28"
        ],
        [
         "13",
         "1993",
         "1993-12-31 00:00:00",
         "470.94",
         "471.29",
         "469.87",
         "470.94"
        ],
        [
         "14",
         "1994",
         "1994-12-30 00:00:00",
         "482.0",
         "482.85",
         "479.57",
         "482.0"
        ],
        [
         "15",
         "1995",
         "1995-12-29 00:00:00",
         "621.69",
         "622.88",
         "618.27",
         "621.69"
        ],
        [
         "16",
         "1996",
         "1996-12-31 00:00:00",
         "757.03",
         "762.12",
         "755.0",
         "757.03"
        ],
        [
         "17",
         "1997",
         "1997-12-31 00:00:00",
         "983.79",
         "986.25",
         "979.57",
         "983.79"
        ],
        [
         "18",
         "1998",
         "1998-12-31 00:00:00",
         "1241.81",
         "1244.93",
         "1231.2",
         "1241.81"
        ],
        [
         "19",
         "1999",
         "1999-12-31 00:00:00",
         "1469.25",
         "1473.13",
         "1463.41",
         "1469.25"
        ],
        [
         "20",
         "2000",
         "2000-12-29 00:00:00",
         "1527.46",
         "1553.11",
         "1518.62",
         "1527.46"
        ],
        [
         "21",
         "2001",
         "2001-12-31 00:00:00",
         "1373.73",
         "1383.37",
         "1364.66",
         "1373.73"
        ],
        [
         "22",
         "2002",
         "2002-12-31 00:00:00",
         "1172.51",
         "1176.97",
         "1165.55",
         "1172.51"
        ],
        [
         "23",
         "2003",
         "2003-12-31 00:00:00",
         "1111.92",
         "1112.56",
         "1106.41",
         "1111.92"
        ],
        [
         "24",
         "2004",
         "2004-12-31 00:00:00",
         "1213.55",
         "1217.33",
         "1213.41",
         "1213.55"
        ],
        [
         "25",
         "2005",
         "2005-12-30 00:00:00",
         "1272.74",
         "1275.8",
         "1267.74",
         "1272.74"
        ],
        [
         "26",
         "2006",
         "2006-12-29 00:00:00",
         "1427.09",
         "1431.81",
         "1425.48",
         "1427.09"
        ],
        [
         "27",
         "2007",
         "2007-12-31 00:00:00",
         "1565.15",
         "1576.09",
         "1555.46",
         "1565.15"
        ],
        [
         "28",
         "2008",
         "2008-12-31 00:00:00",
         "1447.16",
         "1471.77",
         "1443.73",
         "1447.16"
        ],
        [
         "29",
         "2009",
         "2009-12-31 00:00:00",
         "1128.55",
         "1130.38",
         "1126.08",
         "1127.78"
        ],
        [
         "30",
         "2010",
         "2010-12-31 00:00:00",
         "1259.44",
         "1262.6",
         "1258.78",
         "1259.78"
        ],
        [
         "31",
         "2011",
         "2011-12-30 00:00:00",
         "1365.21",
         "1370.58",
         "1358.69",
         "1363.61"
        ],
        [
         "32",
         "2012",
         "2012-12-31 00:00:00",
         "1465.42",
         "1474.51",
         "1460.07",
         "1465.77"
        ],
        [
         "33",
         "2013",
         "2013-12-31 00:00:00",
         "1842.97",
         "1849.44",
         "1842.41",
         "1848.36"
        ],
        [
         "34",
         "2014",
         "2014-12-31 00:00:00",
         "2088.49",
         "2093.55",
         "2085.75",
         "2090.57"
        ],
        [
         "35",
         "2015",
         "2015-12-31 00:00:00",
         "2130.36",
         "2134.72",
         "2126.06",
         "2130.82"
        ],
        [
         "36",
         "2016",
         "2016-12-30 00:00:00",
         "2270.54",
         "2277.53",
         "2266.15",
         "2271.72"
        ],
        [
         "37",
         "2017",
         "2017-12-29 00:00:00",
         "2692.71",
         "2694.97",
         "2685.92",
         "2690.16"
        ],
        [
         "38",
         "2018",
         "2018-12-31 00:00:00",
         "2936.76",
         "2940.91",
         "2927.11",
         "2930.75"
        ],
        [
         "39",
         "2019",
         "2019-12-31 00:00:00",
         "3247.23",
         "3247.93",
         "3234.37",
         "3240.02"
        ],
        [
         "40",
         "2020",
         "2020-12-31 00:00:00",
         "3750.01",
         "3760.2",
         "3730.21",
         "3756.07"
        ],
        [
         "41",
         "2021",
         "2021-12-31 00:00:00",
         "4795.49",
         "4808.93",
         "4780.04",
         "4793.06"
        ],
        [
         "42",
         "2022",
         "2022-12-30 00:00:00",
         "4804.51",
         "4818.62",
         "4774.27",
         "4796.56"
        ],
        [
         "43",
         "2023",
         "2023-12-29 00:00:00",
         "4786.44",
         "4793.3",
         "4780.98",
         "4783.35"
        ],
        [
         "44",
         "2024",
         "2024-12-31 00:00:00",
         "6089.03",
         "6099.97",
         "6079.98",
         "6090.27"
        ],
        [
         "45",
         "2025",
         "2025-09-05 00:00:00",
         "6529.08",
         "6532.65",
         "6466.96",
         "6502.08"
        ]
       ],
       "shape": {
        "columns": 6,
        "rows": 46
       }
      },
      "text/html": [
       "<div>\n",
       "<style scoped>\n",
       "    .dataframe tbody tr th:only-of-type {\n",
       "        vertical-align: middle;\n",
       "    }\n",
       "\n",
       "    .dataframe tbody tr th {\n",
       "        vertical-align: top;\n",
       "    }\n",
       "\n",
       "    .dataframe thead th {\n",
       "        text-align: right;\n",
       "    }\n",
       "</style>\n",
       "<table border=\"1\" class=\"dataframe\">\n",
       "  <thead>\n",
       "    <tr style=\"text-align: right;\">\n",
       "      <th></th>\n",
       "      <th>year</th>\n",
       "      <th>date</th>\n",
       "      <th>open</th>\n",
       "      <th>high</th>\n",
       "      <th>low</th>\n",
       "      <th>close</th>\n",
       "    </tr>\n",
       "  </thead>\n",
       "  <tbody>\n",
       "    <tr>\n",
       "      <th>0</th>\n",
       "      <td>1980</td>\n",
       "      <td>1980-12-31</td>\n",
       "      <td>140.52</td>\n",
       "      <td>141.96</td>\n",
       "      <td>139.00</td>\n",
       "      <td>140.52</td>\n",
       "    </tr>\n",
       "    <tr>\n",
       "      <th>1</th>\n",
       "      <td>1981</td>\n",
       "      <td>1981-12-31</td>\n",
       "      <td>138.12</td>\n",
       "      <td>140.32</td>\n",
       "      <td>135.86</td>\n",
       "      <td>138.12</td>\n",
       "    </tr>\n",
       "    <tr>\n",
       "      <th>2</th>\n",
       "      <td>1982</td>\n",
       "      <td>1982-12-31</td>\n",
       "      <td>143.02</td>\n",
       "      <td>144.65</td>\n",
       "      <td>143.11</td>\n",
       "      <td>143.02</td>\n",
       "    </tr>\n",
       "    <tr>\n",
       "      <th>3</th>\n",
       "      <td>1983</td>\n",
       "      <td>1983-12-30</td>\n",
       "      <td>172.65</td>\n",
       "      <td>173.10</td>\n",
       "      <td>169.65</td>\n",
       "      <td>172.65</td>\n",
       "    </tr>\n",
       "    <tr>\n",
       "      <th>4</th>\n",
       "      <td>1984</td>\n",
       "      <td>1984-12-31</td>\n",
       "      <td>170.41</td>\n",
       "      <td>170.41</td>\n",
       "      <td>168.66</td>\n",
       "      <td>170.41</td>\n",
       "    </tr>\n",
       "    <tr>\n",
       "      <th>5</th>\n",
       "      <td>1985</td>\n",
       "      <td>1985-12-31</td>\n",
       "      <td>212.02</td>\n",
       "      <td>213.02</td>\n",
       "      <td>210.78</td>\n",
       "      <td>212.02</td>\n",
       "    </tr>\n",
       "    <tr>\n",
       "      <th>6</th>\n",
       "      <td>1986</td>\n",
       "      <td>1986-12-31</td>\n",
       "      <td>254.00</td>\n",
       "      <td>254.85</td>\n",
       "      <td>253.35</td>\n",
       "      <td>254.00</td>\n",
       "    </tr>\n",
       "    <tr>\n",
       "      <th>7</th>\n",
       "      <td>1987</td>\n",
       "      <td>1987-12-31</td>\n",
       "      <td>336.77</td>\n",
       "      <td>337.89</td>\n",
       "      <td>334.46</td>\n",
       "      <td>336.77</td>\n",
       "    </tr>\n",
       "    <tr>\n",
       "      <th>8</th>\n",
       "      <td>1988</td>\n",
       "      <td>1988-12-30</td>\n",
       "      <td>283.66</td>\n",
       "      <td>283.95</td>\n",
       "      <td>282.28</td>\n",
       "      <td>283.66</td>\n",
       "    </tr>\n",
       "    <tr>\n",
       "      <th>9</th>\n",
       "      <td>1989</td>\n",
       "      <td>1989-12-29</td>\n",
       "      <td>359.80</td>\n",
       "      <td>360.44</td>\n",
       "      <td>358.11</td>\n",
       "      <td>359.80</td>\n",
       "    </tr>\n",
       "    <tr>\n",
       "      <th>10</th>\n",
       "      <td>1990</td>\n",
       "      <td>1990-12-31</td>\n",
       "      <td>368.95</td>\n",
       "      <td>369.78</td>\n",
       "      <td>367.30</td>\n",
       "      <td>368.95</td>\n",
       "    </tr>\n",
       "    <tr>\n",
       "      <th>11</th>\n",
       "      <td>1991</td>\n",
       "      <td>1991-12-31</td>\n",
       "      <td>417.09</td>\n",
       "      <td>418.32</td>\n",
       "      <td>412.73</td>\n",
       "      <td>417.09</td>\n",
       "    </tr>\n",
       "    <tr>\n",
       "      <th>12</th>\n",
       "      <td>1992</td>\n",
       "      <td>1992-12-31</td>\n",
       "      <td>441.28</td>\n",
       "      <td>442.65</td>\n",
       "      <td>439.65</td>\n",
       "      <td>441.28</td>\n",
       "    </tr>\n",
       "    <tr>\n",
       "      <th>13</th>\n",
       "      <td>1993</td>\n",
       "      <td>1993-12-31</td>\n",
       "      <td>470.94</td>\n",
       "      <td>471.29</td>\n",
       "      <td>469.87</td>\n",
       "      <td>470.94</td>\n",
       "    </tr>\n",
       "    <tr>\n",
       "      <th>14</th>\n",
       "      <td>1994</td>\n",
       "      <td>1994-12-30</td>\n",
       "      <td>482.00</td>\n",
       "      <td>482.85</td>\n",
       "      <td>479.57</td>\n",
       "      <td>482.00</td>\n",
       "    </tr>\n",
       "    <tr>\n",
       "      <th>15</th>\n",
       "      <td>1995</td>\n",
       "      <td>1995-12-29</td>\n",
       "      <td>621.69</td>\n",
       "      <td>622.88</td>\n",
       "      <td>618.27</td>\n",
       "      <td>621.69</td>\n",
       "    </tr>\n",
       "    <tr>\n",
       "      <th>16</th>\n",
       "      <td>1996</td>\n",
       "      <td>1996-12-31</td>\n",
       "      <td>757.03</td>\n",
       "      <td>762.12</td>\n",
       "      <td>755.00</td>\n",
       "      <td>757.03</td>\n",
       "    </tr>\n",
       "    <tr>\n",
       "      <th>17</th>\n",
       "      <td>1997</td>\n",
       "      <td>1997-12-31</td>\n",
       "      <td>983.79</td>\n",
       "      <td>986.25</td>\n",
       "      <td>979.57</td>\n",
       "      <td>983.79</td>\n",
       "    </tr>\n",
       "    <tr>\n",
       "      <th>18</th>\n",
       "      <td>1998</td>\n",
       "      <td>1998-12-31</td>\n",
       "      <td>1241.81</td>\n",
       "      <td>1244.93</td>\n",
       "      <td>1231.20</td>\n",
       "      <td>1241.81</td>\n",
       "    </tr>\n",
       "    <tr>\n",
       "      <th>19</th>\n",
       "      <td>1999</td>\n",
       "      <td>1999-12-31</td>\n",
       "      <td>1469.25</td>\n",
       "      <td>1473.13</td>\n",
       "      <td>1463.41</td>\n",
       "      <td>1469.25</td>\n",
       "    </tr>\n",
       "    <tr>\n",
       "      <th>20</th>\n",
       "      <td>2000</td>\n",
       "      <td>2000-12-29</td>\n",
       "      <td>1527.46</td>\n",
       "      <td>1553.11</td>\n",
       "      <td>1518.62</td>\n",
       "      <td>1527.46</td>\n",
       "    </tr>\n",
       "    <tr>\n",
       "      <th>21</th>\n",
       "      <td>2001</td>\n",
       "      <td>2001-12-31</td>\n",
       "      <td>1373.73</td>\n",
       "      <td>1383.37</td>\n",
       "      <td>1364.66</td>\n",
       "      <td>1373.73</td>\n",
       "    </tr>\n",
       "    <tr>\n",
       "      <th>22</th>\n",
       "      <td>2002</td>\n",
       "      <td>2002-12-31</td>\n",
       "      <td>1172.51</td>\n",
       "      <td>1176.97</td>\n",
       "      <td>1165.55</td>\n",
       "      <td>1172.51</td>\n",
       "    </tr>\n",
       "    <tr>\n",
       "      <th>23</th>\n",
       "      <td>2003</td>\n",
       "      <td>2003-12-31</td>\n",
       "      <td>1111.92</td>\n",
       "      <td>1112.56</td>\n",
       "      <td>1106.41</td>\n",
       "      <td>1111.92</td>\n",
       "    </tr>\n",
       "    <tr>\n",
       "      <th>24</th>\n",
       "      <td>2004</td>\n",
       "      <td>2004-12-31</td>\n",
       "      <td>1213.55</td>\n",
       "      <td>1217.33</td>\n",
       "      <td>1213.41</td>\n",
       "      <td>1213.55</td>\n",
       "    </tr>\n",
       "    <tr>\n",
       "      <th>25</th>\n",
       "      <td>2005</td>\n",
       "      <td>2005-12-30</td>\n",
       "      <td>1272.74</td>\n",
       "      <td>1275.80</td>\n",
       "      <td>1267.74</td>\n",
       "      <td>1272.74</td>\n",
       "    </tr>\n",
       "    <tr>\n",
       "      <th>26</th>\n",
       "      <td>2006</td>\n",
       "      <td>2006-12-29</td>\n",
       "      <td>1427.09</td>\n",
       "      <td>1431.81</td>\n",
       "      <td>1425.48</td>\n",
       "      <td>1427.09</td>\n",
       "    </tr>\n",
       "    <tr>\n",
       "      <th>27</th>\n",
       "      <td>2007</td>\n",
       "      <td>2007-12-31</td>\n",
       "      <td>1565.15</td>\n",
       "      <td>1576.09</td>\n",
       "      <td>1555.46</td>\n",
       "      <td>1565.15</td>\n",
       "    </tr>\n",
       "    <tr>\n",
       "      <th>28</th>\n",
       "      <td>2008</td>\n",
       "      <td>2008-12-31</td>\n",
       "      <td>1447.16</td>\n",
       "      <td>1471.77</td>\n",
       "      <td>1443.73</td>\n",
       "      <td>1447.16</td>\n",
       "    </tr>\n",
       "    <tr>\n",
       "      <th>29</th>\n",
       "      <td>2009</td>\n",
       "      <td>2009-12-31</td>\n",
       "      <td>1128.55</td>\n",
       "      <td>1130.38</td>\n",
       "      <td>1126.08</td>\n",
       "      <td>1127.78</td>\n",
       "    </tr>\n",
       "    <tr>\n",
       "      <th>30</th>\n",
       "      <td>2010</td>\n",
       "      <td>2010-12-31</td>\n",
       "      <td>1259.44</td>\n",
       "      <td>1262.60</td>\n",
       "      <td>1258.78</td>\n",
       "      <td>1259.78</td>\n",
       "    </tr>\n",
       "    <tr>\n",
       "      <th>31</th>\n",
       "      <td>2011</td>\n",
       "      <td>2011-12-30</td>\n",
       "      <td>1365.21</td>\n",
       "      <td>1370.58</td>\n",
       "      <td>1358.69</td>\n",
       "      <td>1363.61</td>\n",
       "    </tr>\n",
       "    <tr>\n",
       "      <th>32</th>\n",
       "      <td>2012</td>\n",
       "      <td>2012-12-31</td>\n",
       "      <td>1465.42</td>\n",
       "      <td>1474.51</td>\n",
       "      <td>1460.07</td>\n",
       "      <td>1465.77</td>\n",
       "    </tr>\n",
       "    <tr>\n",
       "      <th>33</th>\n",
       "      <td>2013</td>\n",
       "      <td>2013-12-31</td>\n",
       "      <td>1842.97</td>\n",
       "      <td>1849.44</td>\n",
       "      <td>1842.41</td>\n",
       "      <td>1848.36</td>\n",
       "    </tr>\n",
       "    <tr>\n",
       "      <th>34</th>\n",
       "      <td>2014</td>\n",
       "      <td>2014-12-31</td>\n",
       "      <td>2088.49</td>\n",
       "      <td>2093.55</td>\n",
       "      <td>2085.75</td>\n",
       "      <td>2090.57</td>\n",
       "    </tr>\n",
       "    <tr>\n",
       "      <th>35</th>\n",
       "      <td>2015</td>\n",
       "      <td>2015-12-31</td>\n",
       "      <td>2130.36</td>\n",
       "      <td>2134.72</td>\n",
       "      <td>2126.06</td>\n",
       "      <td>2130.82</td>\n",
       "    </tr>\n",
       "    <tr>\n",
       "      <th>36</th>\n",
       "      <td>2016</td>\n",
       "      <td>2016-12-30</td>\n",
       "      <td>2270.54</td>\n",
       "      <td>2277.53</td>\n",
       "      <td>2266.15</td>\n",
       "      <td>2271.72</td>\n",
       "    </tr>\n",
       "    <tr>\n",
       "      <th>37</th>\n",
       "      <td>2017</td>\n",
       "      <td>2017-12-29</td>\n",
       "      <td>2692.71</td>\n",
       "      <td>2694.97</td>\n",
       "      <td>2685.92</td>\n",
       "      <td>2690.16</td>\n",
       "    </tr>\n",
       "    <tr>\n",
       "      <th>38</th>\n",
       "      <td>2018</td>\n",
       "      <td>2018-12-31</td>\n",
       "      <td>2936.76</td>\n",
       "      <td>2940.91</td>\n",
       "      <td>2927.11</td>\n",
       "      <td>2930.75</td>\n",
       "    </tr>\n",
       "    <tr>\n",
       "      <th>39</th>\n",
       "      <td>2019</td>\n",
       "      <td>2019-12-31</td>\n",
       "      <td>3247.23</td>\n",
       "      <td>3247.93</td>\n",
       "      <td>3234.37</td>\n",
       "      <td>3240.02</td>\n",
       "    </tr>\n",
       "    <tr>\n",
       "      <th>40</th>\n",
       "      <td>2020</td>\n",
       "      <td>2020-12-31</td>\n",
       "      <td>3750.01</td>\n",
       "      <td>3760.20</td>\n",
       "      <td>3730.21</td>\n",
       "      <td>3756.07</td>\n",
       "    </tr>\n",
       "    <tr>\n",
       "      <th>41</th>\n",
       "      <td>2021</td>\n",
       "      <td>2021-12-31</td>\n",
       "      <td>4795.49</td>\n",
       "      <td>4808.93</td>\n",
       "      <td>4780.04</td>\n",
       "      <td>4793.06</td>\n",
       "    </tr>\n",
       "    <tr>\n",
       "      <th>42</th>\n",
       "      <td>2022</td>\n",
       "      <td>2022-12-30</td>\n",
       "      <td>4804.51</td>\n",
       "      <td>4818.62</td>\n",
       "      <td>4774.27</td>\n",
       "      <td>4796.56</td>\n",
       "    </tr>\n",
       "    <tr>\n",
       "      <th>43</th>\n",
       "      <td>2023</td>\n",
       "      <td>2023-12-29</td>\n",
       "      <td>4786.44</td>\n",
       "      <td>4793.30</td>\n",
       "      <td>4780.98</td>\n",
       "      <td>4783.35</td>\n",
       "    </tr>\n",
       "    <tr>\n",
       "      <th>44</th>\n",
       "      <td>2024</td>\n",
       "      <td>2024-12-31</td>\n",
       "      <td>6089.03</td>\n",
       "      <td>6099.97</td>\n",
       "      <td>6079.98</td>\n",
       "      <td>6090.27</td>\n",
       "    </tr>\n",
       "    <tr>\n",
       "      <th>45</th>\n",
       "      <td>2025</td>\n",
       "      <td>2025-09-05</td>\n",
       "      <td>6529.08</td>\n",
       "      <td>6532.65</td>\n",
       "      <td>6466.96</td>\n",
       "      <td>6502.08</td>\n",
       "    </tr>\n",
       "  </tbody>\n",
       "</table>\n",
       "</div>"
      ],
      "text/plain": [
       "    year       date     open     high      low    close\n",
       "0   1980 1980-12-31   140.52   141.96   139.00   140.52\n",
       "1   1981 1981-12-31   138.12   140.32   135.86   138.12\n",
       "2   1982 1982-12-31   143.02   144.65   143.11   143.02\n",
       "3   1983 1983-12-30   172.65   173.10   169.65   172.65\n",
       "4   1984 1984-12-31   170.41   170.41   168.66   170.41\n",
       "5   1985 1985-12-31   212.02   213.02   210.78   212.02\n",
       "6   1986 1986-12-31   254.00   254.85   253.35   254.00\n",
       "7   1987 1987-12-31   336.77   337.89   334.46   336.77\n",
       "8   1988 1988-12-30   283.66   283.95   282.28   283.66\n",
       "9   1989 1989-12-29   359.80   360.44   358.11   359.80\n",
       "10  1990 1990-12-31   368.95   369.78   367.30   368.95\n",
       "11  1991 1991-12-31   417.09   418.32   412.73   417.09\n",
       "12  1992 1992-12-31   441.28   442.65   439.65   441.28\n",
       "13  1993 1993-12-31   470.94   471.29   469.87   470.94\n",
       "14  1994 1994-12-30   482.00   482.85   479.57   482.00\n",
       "15  1995 1995-12-29   621.69   622.88   618.27   621.69\n",
       "16  1996 1996-12-31   757.03   762.12   755.00   757.03\n",
       "17  1997 1997-12-31   983.79   986.25   979.57   983.79\n",
       "18  1998 1998-12-31  1241.81  1244.93  1231.20  1241.81\n",
       "19  1999 1999-12-31  1469.25  1473.13  1463.41  1469.25\n",
       "20  2000 2000-12-29  1527.46  1553.11  1518.62  1527.46\n",
       "21  2001 2001-12-31  1373.73  1383.37  1364.66  1373.73\n",
       "22  2002 2002-12-31  1172.51  1176.97  1165.55  1172.51\n",
       "23  2003 2003-12-31  1111.92  1112.56  1106.41  1111.92\n",
       "24  2004 2004-12-31  1213.55  1217.33  1213.41  1213.55\n",
       "25  2005 2005-12-30  1272.74  1275.80  1267.74  1272.74\n",
       "26  2006 2006-12-29  1427.09  1431.81  1425.48  1427.09\n",
       "27  2007 2007-12-31  1565.15  1576.09  1555.46  1565.15\n",
       "28  2008 2008-12-31  1447.16  1471.77  1443.73  1447.16\n",
       "29  2009 2009-12-31  1128.55  1130.38  1126.08  1127.78\n",
       "30  2010 2010-12-31  1259.44  1262.60  1258.78  1259.78\n",
       "31  2011 2011-12-30  1365.21  1370.58  1358.69  1363.61\n",
       "32  2012 2012-12-31  1465.42  1474.51  1460.07  1465.77\n",
       "33  2013 2013-12-31  1842.97  1849.44  1842.41  1848.36\n",
       "34  2014 2014-12-31  2088.49  2093.55  2085.75  2090.57\n",
       "35  2015 2015-12-31  2130.36  2134.72  2126.06  2130.82\n",
       "36  2016 2016-12-30  2270.54  2277.53  2266.15  2271.72\n",
       "37  2017 2017-12-29  2692.71  2694.97  2685.92  2690.16\n",
       "38  2018 2018-12-31  2936.76  2940.91  2927.11  2930.75\n",
       "39  2019 2019-12-31  3247.23  3247.93  3234.37  3240.02\n",
       "40  2020 2020-12-31  3750.01  3760.20  3730.21  3756.07\n",
       "41  2021 2021-12-31  4795.49  4808.93  4780.04  4793.06\n",
       "42  2022 2022-12-30  4804.51  4818.62  4774.27  4796.56\n",
       "43  2023 2023-12-29  4786.44  4793.30  4780.98  4783.35\n",
       "44  2024 2024-12-31  6089.03  6099.97  6079.98  6090.27\n",
       "45  2025 2025-09-05  6529.08  6532.65  6466.96  6502.08"
      ]
     },
     "execution_count": 11,
     "metadata": {},
     "output_type": "execute_result"
    }
   ],
   "source": [
    "if (\"year\" not in snp_processed.columns):\n",
    "    snp_processed = snp_processed.reset_index(drop=False)\n",
    "snp_processed"
   ]
  },
  {
   "cell_type": "code",
   "execution_count": null,
   "metadata": {},
   "outputs": [],
   "source": [
    "# It would make a lot of sense to combine them into one csv\n",
    "# TODO"
   ]
  }
 ],
 "metadata": {
  "kernelspec": {
   "display_name": "tfl-price-visualisations-py3.13 (3.13.5)",
   "language": "python",
   "name": "python3"
  },
  "language_info": {
   "codemirror_mode": {
    "name": "ipython",
    "version": 3
   },
   "file_extension": ".py",
   "mimetype": "text/x-python",
   "name": "python",
   "nbconvert_exporter": "python",
   "pygments_lexer": "ipython3",
   "version": "3.12.11"
  }
 },
 "nbformat": 4,
 "nbformat_minor": 2
}
