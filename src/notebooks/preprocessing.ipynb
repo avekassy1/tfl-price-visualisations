{
 "cells": [
  {
   "cell_type": "code",
   "execution_count": null,
   "metadata": {},
   "outputs": [],
   "source": [
    "import pandas as pd\n",
    "import os\n",
    "from pathlib import Path\n",
    "\n",
    "DATA_DIR = Path(os.path.abspath('')).parents[1] / \"data\"\n",
    "STOCK_PRICES_DIR_RAW = DATA_DIR / \"stocks\" / \"raw\"\n",
    "TRANSPORT_FARES_DIR = DATA_DIR / \"fares\"\n",
    "TRANSPORT_FARES_DIR"
   ]
  },
  {
   "cell_type": "markdown",
   "metadata": {},
   "source": [
    "# Transport Fares"
   ]
  },
  {
   "cell_type": "code",
   "execution_count": null,
   "metadata": {},
   "outputs": [],
   "source": [
    "bus_and_coach_fares = pd.read_csv(TRANSPORT_FARES_DIR / \"raw\" / \"bus_and_coach_fares.csv\", skiprows=7)\n",
    "rail_fares = pd.read_csv(TRANSPORT_FARES_DIR / \"raw\" / \"rail_fares.csv\", skiprows=7)\n",
    "tfl_fares = pd.read_csv(TRANSPORT_FARES_DIR / \"raw\" / \"TfLHistoricalFares2000to2025.csv\")"
   ]
  },
  {
   "cell_type": "code",
   "execution_count": null,
   "metadata": {},
   "outputs": [],
   "source": [
    "n_rows = 2024 - int(rail_fares.iloc[0].year) + 1\n",
    "\n",
    "rail_fares = rail_fares.iloc[:n_rows]\n",
    "rail_fares[\"year\"] = rail_fares[\"year\"].astype(int)\n",
    "\n",
    "bus_and_coach_fares = bus_and_coach_fares.iloc[:n_rows]\n",
    "bus_and_coach_fares[\"year\"] = bus_and_coach_fares[\"year\"].astype(int)"
   ]
  },
  {
   "cell_type": "code",
   "execution_count": null,
   "metadata": {},
   "outputs": [],
   "source": [
    "combined_fares = bus_and_coach_fares.merge(rail_fares, on='year')\n",
    "combined_fares = combined_fares.merge(tfl_fares, on='year', how='outer')\n",
    "combined_fares.head()"
   ]
  },
  {
   "cell_type": "code",
   "execution_count": null,
   "metadata": {},
   "outputs": [],
   "source": [
    "combined_fares.to_csv(TRANSPORT_FARES_DIR / \"processed\" / \"combined_transport_fares.csv\", index=False)"
   ]
  },
  {
   "cell_type": "markdown",
   "metadata": {},
   "source": [
    "# Stock Indeces"
   ]
  },
  {
   "cell_type": "code",
   "execution_count": null,
   "metadata": {},
   "outputs": [],
   "source": [
    "def preprocess_stock_prices_dataset(fpath: Path) -> None:\n",
    "    df = pd.read_csv(fpath)\n",
    "    df[\"Date\"] = pd.to_datetime(df[\"Date\"])\n",
    "    df[\"year\"] = df.Date.dt.year\n",
    "\n",
    "    df_processed = df.groupby(\"year\").max().sort_values(\"year\")\n",
    "    df_processed.columns = [s.strip().lower() for s in df_processed.columns]\n",
    "\n",
    "    if (\"year\" not in df_processed.columns):\n",
    "        df_processed = df_processed.reset_index(drop=False)\n",
    "\n",
    "    # df_processed.to_csv(fname[:-4] + \"_processed.csv\", index=False)\n",
    "    new_fname =  fpath.name[:-4] + \"_processed.csv\"\n",
    "    df_processed.to_csv(fpath.parents[1] / \"processed\" / new_fname, index=False)\n",
    "\n",
    "    return df_processed"
   ]
  },
  {
   "cell_type": "code",
   "execution_count": null,
   "metadata": {},
   "outputs": [],
   "source": [
    "processed_indecis = {}\n",
    "for fpath in STOCK_PRICES_DIR_RAW.iterdir():\n",
    "    if (\"csv\" in str(fpath)):\n",
    "        print(fpath.parent, fpath.name)\n",
    "        processed_indecis[fpath.name[:-4]] = preprocess_stock_prices_dataset(fpath)"
   ]
  },
  {
   "cell_type": "code",
   "execution_count": null,
   "metadata": {},
   "outputs": [],
   "source": [
    "pd.DataFrame(processed_indecis['DAX_1987to2025'].year, columns=['year']).merge(processed_indecis['DAX_1987to2025'][['year', 'high']])"
   ]
  },
  {
   "cell_type": "code",
   "execution_count": null,
   "metadata": {},
   "outputs": [],
   "source": [
    "# processed_indecis['DAX_1987to2025'].high\n",
    "combined_indecis = pd.DataFrame(processed_indecis['DAX_1987to2025'].year, columns=['year'])\n",
    "for key, df in processed_indecis.items():\n",
    "    incoming_df = df[['year','high']].rename(columns={'high': key})\n",
    "    combined_indecis = combined_indecis.merge(incoming_df, on='year', how='outer')"
   ]
  },
  {
   "cell_type": "code",
   "execution_count": null,
   "metadata": {},
   "outputs": [],
   "source": [
    "combined_indecis"
   ]
  },
  {
   "cell_type": "code",
   "execution_count": null,
   "metadata": {},
   "outputs": [],
   "source": [
    "combined_indecis.to_csv(STOCK_PRICES_DIR_RAW.parent / \"combined_indices.csv\", index=False)"
   ]
  }
 ],
 "metadata": {
  "kernelspec": {
   "display_name": "tfl-price-visualisations-py3.13 (3.13.5)",
   "language": "python",
   "name": "python3"
  },
  "language_info": {
   "codemirror_mode": {
    "name": "ipython",
    "version": 3
   },
   "file_extension": ".py",
   "mimetype": "text/x-python",
   "name": "python",
   "nbconvert_exporter": "python",
   "pygments_lexer": "ipython3",
   "version": "3.12.11"
  }
 },
 "nbformat": 4,
 "nbformat_minor": 2
}
